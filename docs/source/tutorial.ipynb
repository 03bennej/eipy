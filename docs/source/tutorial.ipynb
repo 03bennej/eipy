{
 "cells": [
  {
   "cell_type": "markdown",
   "metadata": {},
   "source": [
    "# Tutorial"
   ]
  },
  {
   "cell_type": "markdown",
   "metadata": {},
   "source": [
    "In this tutorial we fairly compare a number of ensemble methods using EI's built in nested cross-validation implementation, and show how predictions can be made with the selected final model. We then show how we can intepret the model by calculating feature rankings.\n",
    "\n",
    "### Performance analysis and selection of ensemble methods\n",
    "\n",
    "First of all let's import some `sklearn` models, `EnsembleIntegration` and some additional ensemble methods:"
   ]
  },
  {
   "cell_type": "code",
   "execution_count": 19,
   "metadata": {},
   "outputs": [],
   "source": [
    "from sklearn.ensemble import AdaBoostClassifier, GradientBoostingClassifier, RandomForestClassifier\n",
    "from sklearn.tree import DecisionTreeClassifier\n",
    "from sklearn.neighbors import KNeighborsClassifier\n",
    "from sklearn.linear_model import LogisticRegression\n",
    "from sklearn.naive_bayes import GaussianNB\n",
    "from sklearn.svm import SVC\n",
    "from sklearn.neural_network import MLPClassifier\n",
    "from xgboost import XGBClassifier\n",
    "from eipy.ei import EnsembleIntegration\n",
    "from eipy.additional_ensembles import MeanAggregation, CES"
   ]
  },
  {
   "cell_type": "markdown",
   "metadata": {},
   "source": [
    "Next make some dummy \"multi-modal\" data from the breast cancer dataset:"
   ]
  },
  {
   "cell_type": "code",
   "execution_count": 60,
   "metadata": {},
   "outputs": [],
   "source": [
    "import numpy as np\n",
    "from sklearn.datasets import load_breast_cancer\n",
    "from sklearn.model_selection import train_test_split\n",
    "\n",
    "data = load_breast_cancer()\n",
    "feature_names = data.feature_names\n",
    "X = data.data\n",
    "y = np.abs(data.target - 1)  # make \"malignancy\" the positive class rather than \"benign\"\n",
    "\n",
    "X_1 = X[:, 0:10]\n",
    "X_2 = X[:, 10:]\n",
    "\n",
    "X_1_train, X_1_test, y_train, y_test = train_test_split(X_1, y, test_size=0.2, random_state=3, stratify=y)\n",
    "X_2_train, X_2_test, _, _ = train_test_split(X_2, y, test_size=0.2, random_state=3, stratify=y)"
   ]
  },
  {
   "cell_type": "markdown",
   "metadata": {},
   "source": [
    "Create dictionaries containing data modalities:"
   ]
  },
  {
   "cell_type": "code",
   "execution_count": 61,
   "metadata": {},
   "outputs": [],
   "source": [
    "data_train = {\n",
    "                \"Modality_1\": X_1_train,\n",
    "                \"Modality_2\": X_2_train\n",
    "                }\n",
    "\n",
    "data_test = {\n",
    "                \"Modality_1\": X_1_test,\n",
    "                \"Modality_2\": X_2_test\n",
    "                }"
   ]
  },
  {
   "cell_type": "markdown",
   "metadata": {},
   "source": [
    "Define base predictors:"
   ]
  },
  {
   "cell_type": "code",
   "execution_count": 62,
   "metadata": {},
   "outputs": [],
   "source": [
    "base_predictors = {\n",
    "                    'ADAB': AdaBoostClassifier(),\n",
    "                    'XGB': XGBClassifier(),\n",
    "                    'DT': DecisionTreeClassifier(),\n",
    "                    'RF': RandomForestClassifier(), \n",
    "                    'GB': GradientBoostingClassifier(),\n",
    "                    'KNN': KNeighborsClassifier(),\n",
    "                    'LR': LogisticRegression(),\n",
    "                    'NB': GaussianNB(),\n",
    "                    'MLP': MLPClassifier(),\n",
    "                    'SVM': SVC(probability=True),\n",
    "}"
   ]
  },
  {
   "cell_type": "markdown",
   "metadata": {},
   "source": [
    "Initialise Ensemble Integration:"
   ]
  },
  {
   "cell_type": "code",
   "execution_count": 63,
   "metadata": {},
   "outputs": [],
   "source": [
    "EI = EnsembleIntegration(\n",
    "                        base_predictors=base_predictors,\n",
    "                        k_outer=5,\n",
    "                        k_inner=5,\n",
    "                        n_samples=1,\n",
    "                        sampling_strategy=\"undersampling\",\n",
    "                        sampling_aggregation=\"mean\",\n",
    "                        n_jobs=-1,\n",
    "                        random_state=38,\n",
    "                        project_name=\"breast_cancer\",\n",
    "                        model_building=True,\n",
    "                        )"
   ]
  },
  {
   "cell_type": "markdown",
   "metadata": {},
   "source": [
    "Train base predictors on each modality. Remember to include the unique modality name."
   ]
  },
  {
   "cell_type": "code",
   "execution_count": 64,
   "metadata": {},
   "outputs": [
    {
     "name": "stdout",
     "output_type": "stream",
     "text": [
      "Training base predictors on Modality_1...\n",
      "\n",
      "... for ensemble performance analysis...\n"
     ]
    },
    {
     "name": "stderr",
     "output_type": "stream",
     "text": [
      "Generating meta training data: |██████████|100%\n",
      "Generating meta test data: |██████████|100%\n"
     ]
    },
    {
     "name": "stdout",
     "output_type": "stream",
     "text": [
      "\n",
      "... for final ensemble...\n"
     ]
    },
    {
     "name": "stderr",
     "output_type": "stream",
     "text": [
      "Generating meta training data: |██████████|100%\n",
      "Training final base predictors: |██████████|100%\n"
     ]
    },
    {
     "name": "stdout",
     "output_type": "stream",
     "text": [
      "\n",
      "\n",
      "Training base predictors on Modality_2...\n",
      "\n",
      "... for ensemble performance analysis...\n"
     ]
    },
    {
     "name": "stderr",
     "output_type": "stream",
     "text": [
      "Generating meta training data: |██████████|100%\n",
      "Generating meta test data: |██████████|100%\n"
     ]
    },
    {
     "name": "stdout",
     "output_type": "stream",
     "text": [
      "\n",
      "... for final ensemble...\n"
     ]
    },
    {
     "name": "stderr",
     "output_type": "stream",
     "text": [
      "Generating meta training data: |██████████|100%\n",
      "Training final base predictors: |██████████|100%\n"
     ]
    },
    {
     "name": "stdout",
     "output_type": "stream",
     "text": [
      "\n",
      "\n"
     ]
    }
   ],
   "source": [
    "for name, modality in data_train.items():\n",
    "    EI.train_base(modality, y_train, modality=name)"
   ]
  },
  {
   "cell_type": "markdown",
   "metadata": {},
   "source": [
    "We can check the cross validated performance of each base predictor on each modality with `base_summary`:"
   ]
  },
  {
   "cell_type": "code",
   "execution_count": 65,
   "metadata": {},
   "outputs": [
    {
     "data": {
      "text/html": [
       "<div>\n",
       "<style scoped>\n",
       "    .dataframe tbody tr th:only-of-type {\n",
       "        vertical-align: middle;\n",
       "    }\n",
       "\n",
       "    .dataframe tbody tr th {\n",
       "        vertical-align: top;\n",
       "    }\n",
       "\n",
       "    .dataframe thead tr th {\n",
       "        text-align: left;\n",
       "    }\n",
       "</style>\n",
       "<table border=\"1\" class=\"dataframe\">\n",
       "  <thead>\n",
       "    <tr>\n",
       "      <th>modality</th>\n",
       "      <th colspan=\"10\" halign=\"left\">Modality_1</th>\n",
       "      <th colspan=\"10\" halign=\"left\">Modality_2</th>\n",
       "    </tr>\n",
       "    <tr>\n",
       "      <th>base predictor</th>\n",
       "      <th>ADAB</th>\n",
       "      <th>DT</th>\n",
       "      <th>GB</th>\n",
       "      <th>KNN</th>\n",
       "      <th>LR</th>\n",
       "      <th>MLP</th>\n",
       "      <th>NB</th>\n",
       "      <th>RF</th>\n",
       "      <th>SVM</th>\n",
       "      <th>XGB</th>\n",
       "      <th>ADAB</th>\n",
       "      <th>DT</th>\n",
       "      <th>GB</th>\n",
       "      <th>KNN</th>\n",
       "      <th>LR</th>\n",
       "      <th>MLP</th>\n",
       "      <th>NB</th>\n",
       "      <th>RF</th>\n",
       "      <th>SVM</th>\n",
       "      <th>XGB</th>\n",
       "    </tr>\n",
       "  </thead>\n",
       "  <tbody>\n",
       "    <tr>\n",
       "      <th>fmax (minority)</th>\n",
       "      <td>0.918129</td>\n",
       "      <td>0.890173</td>\n",
       "      <td>0.919075</td>\n",
       "      <td>0.836013</td>\n",
       "      <td>0.882022</td>\n",
       "      <td>0.825397</td>\n",
       "      <td>0.896359</td>\n",
       "      <td>0.912181</td>\n",
       "      <td>0.844156</td>\n",
       "      <td>0.928994</td>\n",
       "      <td>0.952663</td>\n",
       "      <td>0.902857</td>\n",
       "      <td>0.935385</td>\n",
       "      <td>0.896755</td>\n",
       "      <td>0.936047</td>\n",
       "      <td>0.895522</td>\n",
       "      <td>0.935294</td>\n",
       "      <td>0.941896</td>\n",
       "      <td>0.882540</td>\n",
       "      <td>0.943620</td>\n",
       "    </tr>\n",
       "    <tr>\n",
       "      <th>f (majority)</th>\n",
       "      <td>0.950704</td>\n",
       "      <td>0.932624</td>\n",
       "      <td>0.950355</td>\n",
       "      <td>0.914858</td>\n",
       "      <td>0.924188</td>\n",
       "      <td>0.907563</td>\n",
       "      <td>0.933092</td>\n",
       "      <td>0.944345</td>\n",
       "      <td>0.920266</td>\n",
       "      <td>0.958042</td>\n",
       "      <td>0.972028</td>\n",
       "      <td>0.939286</td>\n",
       "      <td>0.964103</td>\n",
       "      <td>0.938704</td>\n",
       "      <td>0.961131</td>\n",
       "      <td>0.939130</td>\n",
       "      <td>0.961404</td>\n",
       "      <td>0.967410</td>\n",
       "      <td>0.937815</td>\n",
       "      <td>0.966841</td>\n",
       "    </tr>\n",
       "    <tr>\n",
       "      <th>AUC</th>\n",
       "      <td>0.977802</td>\n",
       "      <td>0.914345</td>\n",
       "      <td>0.977564</td>\n",
       "      <td>0.917214</td>\n",
       "      <td>0.970320</td>\n",
       "      <td>0.924272</td>\n",
       "      <td>0.972621</td>\n",
       "      <td>0.974592</td>\n",
       "      <td>0.935459</td>\n",
       "      <td>0.978803</td>\n",
       "      <td>0.984128</td>\n",
       "      <td>0.926109</td>\n",
       "      <td>0.984004</td>\n",
       "      <td>0.958524</td>\n",
       "      <td>0.988524</td>\n",
       "      <td>0.963715</td>\n",
       "      <td>0.987255</td>\n",
       "      <td>0.987513</td>\n",
       "      <td>0.966130</td>\n",
       "      <td>0.984479</td>\n",
       "    </tr>\n",
       "    <tr>\n",
       "      <th>max MCC</th>\n",
       "      <td>0.856092</td>\n",
       "      <td>0.823152</td>\n",
       "      <td>0.872648</td>\n",
       "      <td>0.759582</td>\n",
       "      <td>0.811426</td>\n",
       "      <td>0.745580</td>\n",
       "      <td>0.830594</td>\n",
       "      <td>0.858614</td>\n",
       "      <td>0.775230</td>\n",
       "      <td>0.887078</td>\n",
       "      <td>0.919982</td>\n",
       "      <td>0.843132</td>\n",
       "      <td>0.897333</td>\n",
       "      <td>0.835469</td>\n",
       "      <td>0.897343</td>\n",
       "      <td>0.841350</td>\n",
       "      <td>0.892473</td>\n",
       "      <td>0.911979</td>\n",
       "      <td>0.822439</td>\n",
       "      <td>0.910852</td>\n",
       "    </tr>\n",
       "  </tbody>\n",
       "</table>\n",
       "</div>"
      ],
      "text/plain": [
       "modality        Modality_1                                                    \\\n",
       "base predictor        ADAB        DT        GB       KNN        LR       MLP   \n",
       "fmax (minority)   0.918129  0.890173  0.919075  0.836013  0.882022  0.825397   \n",
       "f (majority)      0.950704  0.932624  0.950355  0.914858  0.924188  0.907563   \n",
       "AUC               0.977802  0.914345  0.977564  0.917214  0.970320  0.924272   \n",
       "max MCC           0.856092  0.823152  0.872648  0.759582  0.811426  0.745580   \n",
       "\n",
       "modality                                                Modality_2            \\\n",
       "base predictor         NB        RF       SVM       XGB       ADAB        DT   \n",
       "fmax (minority)  0.896359  0.912181  0.844156  0.928994   0.952663  0.902857   \n",
       "f (majority)     0.933092  0.944345  0.920266  0.958042   0.972028  0.939286   \n",
       "AUC              0.972621  0.974592  0.935459  0.978803   0.984128  0.926109   \n",
       "max MCC          0.830594  0.858614  0.775230  0.887078   0.919982  0.843132   \n",
       "\n",
       "modality                                                                     \\\n",
       "base predictor         GB       KNN        LR       MLP        NB        RF   \n",
       "fmax (minority)  0.935385  0.896755  0.936047  0.895522  0.935294  0.941896   \n",
       "f (majority)     0.964103  0.938704  0.961131  0.939130  0.961404  0.967410   \n",
       "AUC              0.984004  0.958524  0.988524  0.963715  0.987255  0.987513   \n",
       "max MCC          0.897333  0.835469  0.897343  0.841350  0.892473  0.911979   \n",
       "\n",
       "modality                             \n",
       "base predictor        SVM       XGB  \n",
       "fmax (minority)  0.882540  0.943620  \n",
       "f (majority)     0.937815  0.966841  \n",
       "AUC              0.966130  0.984479  \n",
       "max MCC          0.822439  0.910852  "
      ]
     },
     "execution_count": 65,
     "metadata": {},
     "output_type": "execute_result"
    }
   ],
   "source": [
    "EI.base_summary['metrics']"
   ]
  },
  {
   "cell_type": "markdown",
   "metadata": {},
   "source": [
    "Now let's define some meta models for stacked generalization. We add an \"S.\" prefix to the keys of stacking algorithms."
   ]
  },
  {
   "cell_type": "code",
   "execution_count": 66,
   "metadata": {},
   "outputs": [],
   "source": [
    "meta_predictors = {     \n",
    "                    'Mean' : MeanAggregation(),\n",
    "                    'CES' : CES(),\n",
    "                    'S.ADAB': AdaBoostClassifier(),\n",
    "                    'S.XGB': XGBClassifier(),\n",
    "                    'S.DT': DecisionTreeClassifier(),\n",
    "                    \"S.RF\": RandomForestClassifier(), \n",
    "                    'S.GB': GradientBoostingClassifier(),\n",
    "                    'S.KNN': KNeighborsClassifier(),\n",
    "                    'S.LR': LogisticRegression(),\n",
    "                    'S.NB': GaussianNB(),\n",
    "                    'S.MLP': MLPClassifier(),\n",
    "                    'S.SVM': SVC(probability=True),\n",
    "}"
   ]
  },
  {
   "cell_type": "markdown",
   "metadata": {},
   "source": [
    "Train meta models:"
   ]
  },
  {
   "cell_type": "code",
   "execution_count": 67,
   "metadata": {},
   "outputs": [
    {
     "name": "stderr",
     "output_type": "stream",
     "text": [
      "Analyzing ensembles: |██████████|100%\n",
      "Training final meta models: |██████████|100%\n"
     ]
    },
    {
     "data": {
      "text/plain": [
       "<eipy.ei.EnsembleIntegration at 0x7f5d544167d0>"
      ]
     },
     "execution_count": 67,
     "metadata": {},
     "output_type": "execute_result"
    }
   ],
   "source": [
    "EI.train_meta(meta_predictors=meta_predictors)"
   ]
  },
  {
   "cell_type": "markdown",
   "metadata": {},
   "source": [
    "Check the meta summary with `meta_summary`:"
   ]
  },
  {
   "cell_type": "code",
   "execution_count": 68,
   "metadata": {},
   "outputs": [
    {
     "data": {
      "text/html": [
       "<div>\n",
       "<style scoped>\n",
       "    .dataframe tbody tr th:only-of-type {\n",
       "        vertical-align: middle;\n",
       "    }\n",
       "\n",
       "    .dataframe tbody tr th {\n",
       "        vertical-align: top;\n",
       "    }\n",
       "\n",
       "    .dataframe thead th {\n",
       "        text-align: right;\n",
       "    }\n",
       "</style>\n",
       "<table border=\"1\" class=\"dataframe\">\n",
       "  <thead>\n",
       "    <tr style=\"text-align: right;\">\n",
       "      <th></th>\n",
       "      <th>Mean</th>\n",
       "      <th>CES</th>\n",
       "      <th>S.ADAB</th>\n",
       "      <th>S.XGB</th>\n",
       "      <th>S.DT</th>\n",
       "      <th>S.RF</th>\n",
       "      <th>S.GB</th>\n",
       "      <th>S.KNN</th>\n",
       "      <th>S.LR</th>\n",
       "      <th>S.NB</th>\n",
       "      <th>S.MLP</th>\n",
       "      <th>S.SVM</th>\n",
       "    </tr>\n",
       "  </thead>\n",
       "  <tbody>\n",
       "    <tr>\n",
       "      <th>fmax (minority)</th>\n",
       "      <td>0.939130</td>\n",
       "      <td>0.947368</td>\n",
       "      <td>0.932153</td>\n",
       "      <td>0.948328</td>\n",
       "      <td>0.923077</td>\n",
       "      <td>0.950920</td>\n",
       "      <td>0.950437</td>\n",
       "      <td>0.943620</td>\n",
       "      <td>0.953488</td>\n",
       "      <td>0.941860</td>\n",
       "      <td>0.956012</td>\n",
       "      <td>0.949853</td>\n",
       "    </tr>\n",
       "    <tr>\n",
       "      <th>f (majority)</th>\n",
       "      <td>0.962832</td>\n",
       "      <td>0.968310</td>\n",
       "      <td>0.959720</td>\n",
       "      <td>0.970740</td>\n",
       "      <td>0.954545</td>\n",
       "      <td>0.972603</td>\n",
       "      <td>0.970018</td>\n",
       "      <td>0.966841</td>\n",
       "      <td>0.971731</td>\n",
       "      <td>0.964664</td>\n",
       "      <td>0.973638</td>\n",
       "      <td>0.970228</td>\n",
       "    </tr>\n",
       "    <tr>\n",
       "      <th>AUC</th>\n",
       "      <td>0.988710</td>\n",
       "      <td>0.990134</td>\n",
       "      <td>0.977141</td>\n",
       "      <td>0.986151</td>\n",
       "      <td>0.937771</td>\n",
       "      <td>0.985738</td>\n",
       "      <td>0.980361</td>\n",
       "      <td>0.976966</td>\n",
       "      <td>0.988380</td>\n",
       "      <td>0.975418</td>\n",
       "      <td>0.983385</td>\n",
       "      <td>0.979711</td>\n",
       "    </tr>\n",
       "    <tr>\n",
       "      <th>max MCC</th>\n",
       "      <td>0.902221</td>\n",
       "      <td>0.915720</td>\n",
       "      <td>0.891884</td>\n",
       "      <td>0.920696</td>\n",
       "      <td>0.877664</td>\n",
       "      <td>0.926137</td>\n",
       "      <td>0.921100</td>\n",
       "      <td>0.910557</td>\n",
       "      <td>0.925388</td>\n",
       "      <td>0.902221</td>\n",
       "      <td>0.929660</td>\n",
       "      <td>0.920091</td>\n",
       "    </tr>\n",
       "  </tbody>\n",
       "</table>\n",
       "</div>"
      ],
      "text/plain": [
       "                     Mean       CES    S.ADAB     S.XGB      S.DT      S.RF  \\\n",
       "fmax (minority)  0.939130  0.947368  0.932153  0.948328  0.923077  0.950920   \n",
       "f (majority)     0.962832  0.968310  0.959720  0.970740  0.954545  0.972603   \n",
       "AUC              0.988710  0.990134  0.977141  0.986151  0.937771  0.985738   \n",
       "max MCC          0.902221  0.915720  0.891884  0.920696  0.877664  0.926137   \n",
       "\n",
       "                     S.GB     S.KNN      S.LR      S.NB     S.MLP     S.SVM  \n",
       "fmax (minority)  0.950437  0.943620  0.953488  0.941860  0.956012  0.949853  \n",
       "f (majority)     0.970018  0.966841  0.971731  0.964664  0.973638  0.970228  \n",
       "AUC              0.980361  0.976966  0.988380  0.975418  0.983385  0.979711  \n",
       "max MCC          0.921100  0.910557  0.925388  0.902221  0.929660  0.920091  "
      ]
     },
     "execution_count": 68,
     "metadata": {},
     "output_type": "execute_result"
    }
   ],
   "source": [
    "EI.meta_summary['metrics']"
   ]
  },
  {
   "cell_type": "markdown",
   "metadata": {},
   "source": [
    "The MLP stacking algorithm has the best $\\text{F}_\\text{max}$ performance (the preferred metric for imbalanced datasets) so let's select it as our final model.\n",
    "\n",
    "### Predictions on unseen data\n",
    "\n",
    "Since we ran EI with `model_building=True`, we can make predictions. Let's predict the test set and apply the $\\text{F}_\\text{max}$ threshold calculated during training:"
   ]
  },
  {
   "cell_type": "code",
   "execution_count": 70,
   "metadata": {},
   "outputs": [
    {
     "name": "stdout",
     "output_type": "stream",
     "text": [
      "[0. 1. 0. 1. 0. 1. 1. 0. 1. 0. 0. 0. 0. 1. 0. 0. 1. 1. 0. 1. 0. 1. 1. 0.\n",
      " 1. 1. 1. 0. 0. 0. 0. 1. 0. 1. 0. 0. 0. 0. 1. 1. 1. 1. 1. 1. 0. 0. 0. 0.\n",
      " 0. 0. 0. 0. 0. 0. 0. 0. 1. 0. 1. 0. 0. 0. 0. 0. 0. 0. 0. 0. 0. 0. 0. 0.\n",
      " 0. 0. 1. 0. 0. 0. 1. 0. 0. 1. 0. 0. 1. 0. 1. 0. 0. 0. 1. 0. 0. 1. 1. 0.\n",
      " 1. 0. 0. 0. 1. 1. 0. 1. 0. 1. 0. 1. 1. 1. 1. 0. 0. 0.]\n"
     ]
    }
   ],
   "source": [
    "y_pred = EI.predict(X_dict=data_test, meta_model_key='S.MLP')\n",
    "\n",
    "threshold = EI.meta_summary['thresholds']['S.MLP']['fmax (minority)']\n",
    "\n",
    "y_pred[y_pred>=threshold] = 1\n",
    "y_pred[y_pred<threshold] = 0\n",
    "\n",
    "print(y_pred)"
   ]
  },
  {
   "cell_type": "markdown",
   "metadata": {},
   "source": [
    "\n",
    "### Interpreting the final model\n",
    "\n",
    "We now use `PermutationInterpreter` to interpret the final MLP stacked generalization model. Let's first import `PermutationInterpreter` and our chosen metric, and initialise the interpreter:"
   ]
  },
  {
   "cell_type": "code",
   "execution_count": 71,
   "metadata": {},
   "outputs": [],
   "source": [
    "from eipy.interpretation import PermutationInterpreter\n",
    "from eipy.utils import f_minority_score\n",
    "\n",
    "interpreter = PermutationInterpreter(EI=EI,\n",
    "                                     metric=f_minority_score,\n",
    "                                     meta_predictor_keys=['S.MLP'])"
   ]
  },
  {
   "cell_type": "markdown",
   "metadata": {},
   "source": [
    "Calculate feature importance scores:"
   ]
  },
  {
   "cell_type": "code",
   "execution_count": 73,
   "metadata": {},
   "outputs": [
    {
     "name": "stdout",
     "output_type": "stream",
     "text": [
      "Interpreting ensembles...\n",
      "\n"
     ]
    },
    {
     "name": "stderr",
     "output_type": "stream",
     "text": [
      "Calculating local feature ranks: |██████████|100%\n",
      "Calculating local model ranks: |██████████|100%"
     ]
    },
    {
     "name": "stdout",
     "output_type": "stream",
     "text": [
      "Calculating combined rank product score...\n",
      "... complete!\n"
     ]
    },
    {
     "name": "stderr",
     "output_type": "stream",
     "text": [
      "\n"
     ]
    },
    {
     "data": {
      "text/plain": [
       "<eipy.interpretation.PermutationInterpreter at 0x7f5df4bd8700>"
      ]
     },
     "execution_count": 73,
     "metadata": {},
     "output_type": "execute_result"
    }
   ],
   "source": [
    "interpreter.rank_product_score(X_dict=data_train, y=y_train)"
   ]
  },
  {
   "cell_type": "markdown",
   "metadata": {},
   "source": [
    "We can now inspect the most important features for model prediction:"
   ]
  },
  {
   "cell_type": "code",
   "execution_count": 78,
   "metadata": {},
   "outputs": [
    {
     "data": {
      "text/html": [
       "<div>\n",
       "<style scoped>\n",
       "    .dataframe tbody tr th:only-of-type {\n",
       "        vertical-align: middle;\n",
       "    }\n",
       "\n",
       "    .dataframe tbody tr th {\n",
       "        vertical-align: top;\n",
       "    }\n",
       "\n",
       "    .dataframe thead th {\n",
       "        text-align: right;\n",
       "    }\n",
       "</style>\n",
       "<table border=\"1\" class=\"dataframe\">\n",
       "  <thead>\n",
       "    <tr style=\"text-align: right;\">\n",
       "      <th></th>\n",
       "      <th>modality</th>\n",
       "      <th>feature</th>\n",
       "      <th>RPS</th>\n",
       "      <th>feature rank</th>\n",
       "      <th>ensemble method</th>\n",
       "    </tr>\n",
       "  </thead>\n",
       "  <tbody>\n",
       "    <tr>\n",
       "      <th>3</th>\n",
       "      <td>Modality_1</td>\n",
       "      <td>mean area</td>\n",
       "      <td>0.056500</td>\n",
       "      <td>1.0</td>\n",
       "      <td>S.MLP</td>\n",
       "    </tr>\n",
       "    <tr>\n",
       "      <th>23</th>\n",
       "      <td>Modality_2</td>\n",
       "      <td>worst area</td>\n",
       "      <td>0.108750</td>\n",
       "      <td>2.0</td>\n",
       "      <td>S.MLP</td>\n",
       "    </tr>\n",
       "    <tr>\n",
       "      <th>1</th>\n",
       "      <td>Modality_1</td>\n",
       "      <td>mean texture</td>\n",
       "      <td>0.147250</td>\n",
       "      <td>3.0</td>\n",
       "      <td>S.MLP</td>\n",
       "    </tr>\n",
       "    <tr>\n",
       "      <th>7</th>\n",
       "      <td>Modality_1</td>\n",
       "      <td>mean concave points</td>\n",
       "      <td>0.172500</td>\n",
       "      <td>4.0</td>\n",
       "      <td>S.MLP</td>\n",
       "    </tr>\n",
       "    <tr>\n",
       "      <th>13</th>\n",
       "      <td>Modality_2</td>\n",
       "      <td>area error</td>\n",
       "      <td>0.177750</td>\n",
       "      <td>5.0</td>\n",
       "      <td>S.MLP</td>\n",
       "    </tr>\n",
       "    <tr>\n",
       "      <th>21</th>\n",
       "      <td>Modality_2</td>\n",
       "      <td>worst texture</td>\n",
       "      <td>0.197750</td>\n",
       "      <td>6.0</td>\n",
       "      <td>S.MLP</td>\n",
       "    </tr>\n",
       "    <tr>\n",
       "      <th>27</th>\n",
       "      <td>Modality_2</td>\n",
       "      <td>worst concave points</td>\n",
       "      <td>0.207125</td>\n",
       "      <td>7.0</td>\n",
       "      <td>S.MLP</td>\n",
       "    </tr>\n",
       "    <tr>\n",
       "      <th>6</th>\n",
       "      <td>Modality_1</td>\n",
       "      <td>mean concavity</td>\n",
       "      <td>0.217500</td>\n",
       "      <td>8.0</td>\n",
       "      <td>S.MLP</td>\n",
       "    </tr>\n",
       "    <tr>\n",
       "      <th>2</th>\n",
       "      <td>Modality_1</td>\n",
       "      <td>mean perimeter</td>\n",
       "      <td>0.221000</td>\n",
       "      <td>9.0</td>\n",
       "      <td>S.MLP</td>\n",
       "    </tr>\n",
       "    <tr>\n",
       "      <th>22</th>\n",
       "      <td>Modality_2</td>\n",
       "      <td>worst perimeter</td>\n",
       "      <td>0.241750</td>\n",
       "      <td>10.0</td>\n",
       "      <td>S.MLP</td>\n",
       "    </tr>\n",
       "    <tr>\n",
       "      <th>5</th>\n",
       "      <td>Modality_1</td>\n",
       "      <td>mean compactness</td>\n",
       "      <td>0.247000</td>\n",
       "      <td>11.0</td>\n",
       "      <td>S.MLP</td>\n",
       "    </tr>\n",
       "    <tr>\n",
       "      <th>0</th>\n",
       "      <td>Modality_1</td>\n",
       "      <td>mean radius</td>\n",
       "      <td>0.255750</td>\n",
       "      <td>12.0</td>\n",
       "      <td>S.MLP</td>\n",
       "    </tr>\n",
       "    <tr>\n",
       "      <th>12</th>\n",
       "      <td>Modality_2</td>\n",
       "      <td>perimeter error</td>\n",
       "      <td>0.258125</td>\n",
       "      <td>13.0</td>\n",
       "      <td>S.MLP</td>\n",
       "    </tr>\n",
       "    <tr>\n",
       "      <th>26</th>\n",
       "      <td>Modality_2</td>\n",
       "      <td>worst concavity</td>\n",
       "      <td>0.260000</td>\n",
       "      <td>14.0</td>\n",
       "      <td>S.MLP</td>\n",
       "    </tr>\n",
       "    <tr>\n",
       "      <th>4</th>\n",
       "      <td>Modality_1</td>\n",
       "      <td>mean smoothness</td>\n",
       "      <td>0.261750</td>\n",
       "      <td>15.0</td>\n",
       "      <td>S.MLP</td>\n",
       "    </tr>\n",
       "    <tr>\n",
       "      <th>20</th>\n",
       "      <td>Modality_2</td>\n",
       "      <td>worst radius</td>\n",
       "      <td>0.286375</td>\n",
       "      <td>16.0</td>\n",
       "      <td>S.MLP</td>\n",
       "    </tr>\n",
       "    <tr>\n",
       "      <th>8</th>\n",
       "      <td>Modality_1</td>\n",
       "      <td>mean symmetry</td>\n",
       "      <td>0.314500</td>\n",
       "      <td>17.0</td>\n",
       "      <td>S.MLP</td>\n",
       "    </tr>\n",
       "    <tr>\n",
       "      <th>24</th>\n",
       "      <td>Modality_2</td>\n",
       "      <td>worst smoothness</td>\n",
       "      <td>0.315625</td>\n",
       "      <td>18.0</td>\n",
       "      <td>S.MLP</td>\n",
       "    </tr>\n",
       "    <tr>\n",
       "      <th>9</th>\n",
       "      <td>Modality_1</td>\n",
       "      <td>mean fractal dimension</td>\n",
       "      <td>0.333750</td>\n",
       "      <td>19.0</td>\n",
       "      <td>S.MLP</td>\n",
       "    </tr>\n",
       "    <tr>\n",
       "      <th>10</th>\n",
       "      <td>Modality_2</td>\n",
       "      <td>radius error</td>\n",
       "      <td>0.352500</td>\n",
       "      <td>20.0</td>\n",
       "      <td>S.MLP</td>\n",
       "    </tr>\n",
       "    <tr>\n",
       "      <th>25</th>\n",
       "      <td>Modality_2</td>\n",
       "      <td>worst compactness</td>\n",
       "      <td>0.398000</td>\n",
       "      <td>21.0</td>\n",
       "      <td>S.MLP</td>\n",
       "    </tr>\n",
       "    <tr>\n",
       "      <th>19</th>\n",
       "      <td>Modality_2</td>\n",
       "      <td>fractal dimension error</td>\n",
       "      <td>0.409500</td>\n",
       "      <td>22.0</td>\n",
       "      <td>S.MLP</td>\n",
       "    </tr>\n",
       "    <tr>\n",
       "      <th>15</th>\n",
       "      <td>Modality_2</td>\n",
       "      <td>compactness error</td>\n",
       "      <td>0.418875</td>\n",
       "      <td>23.0</td>\n",
       "      <td>S.MLP</td>\n",
       "    </tr>\n",
       "    <tr>\n",
       "      <th>14</th>\n",
       "      <td>Modality_2</td>\n",
       "      <td>smoothness error</td>\n",
       "      <td>0.421500</td>\n",
       "      <td>24.0</td>\n",
       "      <td>S.MLP</td>\n",
       "    </tr>\n",
       "    <tr>\n",
       "      <th>17</th>\n",
       "      <td>Modality_2</td>\n",
       "      <td>concave points error</td>\n",
       "      <td>0.429875</td>\n",
       "      <td>25.0</td>\n",
       "      <td>S.MLP</td>\n",
       "    </tr>\n",
       "    <tr>\n",
       "      <th>18</th>\n",
       "      <td>Modality_2</td>\n",
       "      <td>symmetry error</td>\n",
       "      <td>0.451750</td>\n",
       "      <td>26.0</td>\n",
       "      <td>S.MLP</td>\n",
       "    </tr>\n",
       "    <tr>\n",
       "      <th>29</th>\n",
       "      <td>Modality_2</td>\n",
       "      <td>worst fractal dimension</td>\n",
       "      <td>0.452750</td>\n",
       "      <td>27.0</td>\n",
       "      <td>S.MLP</td>\n",
       "    </tr>\n",
       "    <tr>\n",
       "      <th>11</th>\n",
       "      <td>Modality_2</td>\n",
       "      <td>texture error</td>\n",
       "      <td>0.455375</td>\n",
       "      <td>28.0</td>\n",
       "      <td>S.MLP</td>\n",
       "    </tr>\n",
       "    <tr>\n",
       "      <th>28</th>\n",
       "      <td>Modality_2</td>\n",
       "      <td>worst symmetry</td>\n",
       "      <td>0.457375</td>\n",
       "      <td>29.0</td>\n",
       "      <td>S.MLP</td>\n",
       "    </tr>\n",
       "    <tr>\n",
       "      <th>16</th>\n",
       "      <td>Modality_2</td>\n",
       "      <td>concavity error</td>\n",
       "      <td>0.471750</td>\n",
       "      <td>30.0</td>\n",
       "      <td>S.MLP</td>\n",
       "    </tr>\n",
       "  </tbody>\n",
       "</table>\n",
       "</div>"
      ],
      "text/plain": [
       "      modality                  feature       RPS  feature rank  \\\n",
       "3   Modality_1                mean area  0.056500           1.0   \n",
       "23  Modality_2               worst area  0.108750           2.0   \n",
       "1   Modality_1             mean texture  0.147250           3.0   \n",
       "7   Modality_1      mean concave points  0.172500           4.0   \n",
       "13  Modality_2               area error  0.177750           5.0   \n",
       "21  Modality_2            worst texture  0.197750           6.0   \n",
       "27  Modality_2     worst concave points  0.207125           7.0   \n",
       "6   Modality_1           mean concavity  0.217500           8.0   \n",
       "2   Modality_1           mean perimeter  0.221000           9.0   \n",
       "22  Modality_2          worst perimeter  0.241750          10.0   \n",
       "5   Modality_1         mean compactness  0.247000          11.0   \n",
       "0   Modality_1              mean radius  0.255750          12.0   \n",
       "12  Modality_2          perimeter error  0.258125          13.0   \n",
       "26  Modality_2          worst concavity  0.260000          14.0   \n",
       "4   Modality_1          mean smoothness  0.261750          15.0   \n",
       "20  Modality_2             worst radius  0.286375          16.0   \n",
       "8   Modality_1            mean symmetry  0.314500          17.0   \n",
       "24  Modality_2         worst smoothness  0.315625          18.0   \n",
       "9   Modality_1   mean fractal dimension  0.333750          19.0   \n",
       "10  Modality_2             radius error  0.352500          20.0   \n",
       "25  Modality_2        worst compactness  0.398000          21.0   \n",
       "19  Modality_2  fractal dimension error  0.409500          22.0   \n",
       "15  Modality_2        compactness error  0.418875          23.0   \n",
       "14  Modality_2         smoothness error  0.421500          24.0   \n",
       "17  Modality_2     concave points error  0.429875          25.0   \n",
       "18  Modality_2           symmetry error  0.451750          26.0   \n",
       "29  Modality_2  worst fractal dimension  0.452750          27.0   \n",
       "11  Modality_2            texture error  0.455375          28.0   \n",
       "28  Modality_2           worst symmetry  0.457375          29.0   \n",
       "16  Modality_2          concavity error  0.471750          30.0   \n",
       "\n",
       "   ensemble method  \n",
       "3            S.MLP  \n",
       "23           S.MLP  \n",
       "1            S.MLP  \n",
       "7            S.MLP  \n",
       "13           S.MLP  \n",
       "21           S.MLP  \n",
       "27           S.MLP  \n",
       "6            S.MLP  \n",
       "2            S.MLP  \n",
       "22           S.MLP  \n",
       "5            S.MLP  \n",
       "0            S.MLP  \n",
       "12           S.MLP  \n",
       "26           S.MLP  \n",
       "4            S.MLP  \n",
       "20           S.MLP  \n",
       "8            S.MLP  \n",
       "24           S.MLP  \n",
       "9            S.MLP  \n",
       "10           S.MLP  \n",
       "25           S.MLP  \n",
       "19           S.MLP  \n",
       "15           S.MLP  \n",
       "14           S.MLP  \n",
       "17           S.MLP  \n",
       "18           S.MLP  \n",
       "29           S.MLP  \n",
       "11           S.MLP  \n",
       "28           S.MLP  \n",
       "16           S.MLP  "
      ]
     },
     "execution_count": 78,
     "metadata": {},
     "output_type": "execute_result"
    }
   ],
   "source": [
    "ranking_dataframe = interpreter.ensemble_feature_ranking['S.MLP']\n",
    "reordered_feature_names = feature_names[ranking_dataframe.index]\n",
    "ranking_dataframe['feature'] = reordered_feature_names\n",
    "\n",
    "ranking_dataframe"
   ]
  }
 ],
 "metadata": {
  "kernelspec": {
   "display_name": "tf",
   "language": "python",
   "name": "python3"
  },
  "language_info": {
   "codemirror_mode": {
    "name": "ipython",
    "version": 3
   },
   "file_extension": ".py",
   "mimetype": "text/x-python",
   "name": "python",
   "nbconvert_exporter": "python",
   "pygments_lexer": "ipython3",
   "version": "3.10.9"
  },
  "orig_nbformat": 4,
  "vscode": {
   "interpreter": {
    "hash": "11e74c3c36c376ffcb66f65df8248706fe68363becca747991fd07d52526dccb"
   }
  }
 },
 "nbformat": 4,
 "nbformat_minor": 2
}
