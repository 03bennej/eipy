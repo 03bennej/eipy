{
 "cells": [
  {
   "cell_type": "markdown",
   "metadata": {},
   "source": [
    "# Tutorial"
   ]
  },
  {
   "cell_type": "markdown",
   "metadata": {},
   "source": [
    "In this tutorial we fairly compare a number of ensemble methods using EI's built in nested cross-validation implementation, and show how predictions can be made with the selected final model.\n",
    "\n",
    "First of all let's import some `sklearn` models and `EnsembleIntegration`:"
   ]
  },
  {
   "cell_type": "code",
   "execution_count": 1,
   "metadata": {},
   "outputs": [],
   "source": [
    "from sklearn.ensemble import AdaBoostClassifier, GradientBoostingClassifier, RandomForestClassifier\n",
    "from sklearn.tree import DecisionTreeClassifier\n",
    "from sklearn.neighbors import KNeighborsClassifier\n",
    "from sklearn.linear_model import LogisticRegression\n",
    "from sklearn.naive_bayes import GaussianNB\n",
    "from sklearn.svm import SVC\n",
    "from sklearn.neural_network import MLPClassifier\n",
    "from sklearn.model_selection import train_test_split\n",
    "from xgboost import XGBClassifier\n",
    "from sklearn.datasets import make_classification\n",
    "from eipy.ei import EnsembleIntegration"
   ]
  },
  {
   "cell_type": "markdown",
   "metadata": {},
   "source": [
    "Next make some dummy \"multi-modal\" data:"
   ]
  },
  {
   "cell_type": "code",
   "execution_count": 14,
   "metadata": {},
   "outputs": [],
   "source": [
    "X, y = make_classification(\n",
    "                        n_samples=200, \n",
    "                        n_features=50, \n",
    "                        weights=[0.3, 0.7], \n",
    "                        random_state=1\n",
    ")\n",
    "\n",
    "X_1 = X[:, 0:25]\n",
    "X_2 = X[:, 25:]"
   ]
  },
  {
   "cell_type": "markdown",
   "metadata": {},
   "source": [
    "Create a dictionary containing data modalities:"
   ]
  },
  {
   "cell_type": "code",
   "execution_count": 15,
   "metadata": {},
   "outputs": [],
   "source": [
    "data = {\n",
    "                \"Modality_1\": X_1,\n",
    "                \"Modality_2\": X_2\n",
    "                }"
   ]
  },
  {
   "cell_type": "markdown",
   "metadata": {},
   "source": [
    "Define base predictors:"
   ]
  },
  {
   "cell_type": "code",
   "execution_count": 4,
   "metadata": {},
   "outputs": [],
   "source": [
    "base_predictors = {\n",
    "                    'ADAB': AdaBoostClassifier(),\n",
    "                    'XGB': XGBClassifier(),\n",
    "                    'DT': DecisionTreeClassifier(),\n",
    "                    'RF': RandomForestClassifier(), \n",
    "                    'GB': GradientBoostingClassifier(),\n",
    "                    'KNN': KNeighborsClassifier(),\n",
    "                    'LR': LogisticRegression(),\n",
    "                    'NB': GaussianNB(),\n",
    "                    'MLP': MLPClassifier(),\n",
    "                    'SVM': SVC(probability=True),\n",
    "}"
   ]
  },
  {
   "cell_type": "markdown",
   "metadata": {},
   "source": [
    "Initialise Ensemble Integration:"
   ]
  },
  {
   "cell_type": "code",
   "execution_count": 5,
   "metadata": {},
   "outputs": [],
   "source": [
    "EI = EnsembleIntegration(base_predictors=base_predictors,\n",
    "                        k_outer=5,\n",
    "                        k_inner=5,\n",
    "                        n_samples=1,\n",
    "                        sampling_strategy=\"undersampling\",\n",
    "                        sampling_aggregation=\"mean\",\n",
    "                        n_jobs=-1,\n",
    "                        random_state=38,\n",
    "                        parallel_backend=\"loky\",\n",
    "                        project_name=\"cell-division\",\n",
    "                        model_building=True,\n",
    "                        )"
   ]
  },
  {
   "cell_type": "markdown",
   "metadata": {},
   "source": [
    "Train base predictors on each modality. Remember to include the unique modality name."
   ]
  },
  {
   "cell_type": "code",
   "execution_count": 7,
   "metadata": {},
   "outputs": [
    {
     "name": "stdout",
     "output_type": "stream",
     "text": [
      "Training base predictors on Modality_1...\n",
      "\n",
      "... for analysis...\n"
     ]
    },
    {
     "name": "stderr",
     "output_type": "stream",
     "text": [
      "Generating meta training data: |██████████|100%\n",
      "Generating meta test data: |██████████|100%\n"
     ]
    },
    {
     "name": "stdout",
     "output_type": "stream",
     "text": [
      "\n",
      "... for final ensemble...\n"
     ]
    },
    {
     "name": "stderr",
     "output_type": "stream",
     "text": [
      "Generating meta training data: |██████████|100%\n",
      "Training final base predictors: |██████████|100%\n"
     ]
    },
    {
     "name": "stdout",
     "output_type": "stream",
     "text": [
      "\n",
      "\n",
      "Training base predictors on Modality_2...\n",
      "\n",
      "... for analysis...\n"
     ]
    },
    {
     "name": "stderr",
     "output_type": "stream",
     "text": [
      "Generating meta training data: |██████████|100%\n",
      "Generating meta test data: |██████████|100%\n"
     ]
    },
    {
     "name": "stdout",
     "output_type": "stream",
     "text": [
      "\n",
      "... for final ensemble...\n"
     ]
    },
    {
     "name": "stderr",
     "output_type": "stream",
     "text": [
      "Generating meta training data: |██████████|100%\n",
      "Training final base predictors: |██████████|100%"
     ]
    },
    {
     "name": "stdout",
     "output_type": "stream",
     "text": [
      "\n",
      "\n"
     ]
    },
    {
     "name": "stderr",
     "output_type": "stream",
     "text": [
      "\n"
     ]
    }
   ],
   "source": [
    "for name, modality in data.items():\n",
    "    EI.train_base(modality, y, modality=name)"
   ]
  },
  {
   "cell_type": "markdown",
   "metadata": {},
   "source": [
    "We can check the performance of each base predictor on each modality with `base_summary`:"
   ]
  },
  {
   "cell_type": "code",
   "execution_count": 9,
   "metadata": {},
   "outputs": [
    {
     "data": {
      "text/html": [
       "<div>\n",
       "<style scoped>\n",
       "    .dataframe tbody tr th:only-of-type {\n",
       "        vertical-align: middle;\n",
       "    }\n",
       "\n",
       "    .dataframe tbody tr th {\n",
       "        vertical-align: top;\n",
       "    }\n",
       "\n",
       "    .dataframe thead tr th {\n",
       "        text-align: left;\n",
       "    }\n",
       "</style>\n",
       "<table border=\"1\" class=\"dataframe\">\n",
       "  <thead>\n",
       "    <tr>\n",
       "      <th>modality</th>\n",
       "      <th colspan=\"10\" halign=\"left\">Modality_1</th>\n",
       "      <th colspan=\"10\" halign=\"left\">Modality_2</th>\n",
       "    </tr>\n",
       "    <tr>\n",
       "      <th>base predictor</th>\n",
       "      <th>ADAB</th>\n",
       "      <th>DT</th>\n",
       "      <th>GB</th>\n",
       "      <th>KNN</th>\n",
       "      <th>LR</th>\n",
       "      <th>MLP</th>\n",
       "      <th>NB</th>\n",
       "      <th>RF</th>\n",
       "      <th>SVM</th>\n",
       "      <th>XGB</th>\n",
       "      <th>ADAB</th>\n",
       "      <th>DT</th>\n",
       "      <th>GB</th>\n",
       "      <th>KNN</th>\n",
       "      <th>LR</th>\n",
       "      <th>MLP</th>\n",
       "      <th>NB</th>\n",
       "      <th>RF</th>\n",
       "      <th>SVM</th>\n",
       "      <th>XGB</th>\n",
       "    </tr>\n",
       "  </thead>\n",
       "  <tbody>\n",
       "    <tr>\n",
       "      <th>fmax (minority)</th>\n",
       "      <td>0.470588</td>\n",
       "      <td>0.467433</td>\n",
       "      <td>0.543046</td>\n",
       "      <td>0.502326</td>\n",
       "      <td>0.507463</td>\n",
       "      <td>0.495050</td>\n",
       "      <td>0.520548</td>\n",
       "      <td>0.539683</td>\n",
       "      <td>0.539877</td>\n",
       "      <td>0.546875</td>\n",
       "      <td>0.727273</td>\n",
       "      <td>0.740157</td>\n",
       "      <td>0.830508</td>\n",
       "      <td>0.636364</td>\n",
       "      <td>0.760331</td>\n",
       "      <td>0.677966</td>\n",
       "      <td>0.761062</td>\n",
       "      <td>0.827586</td>\n",
       "      <td>0.769231</td>\n",
       "      <td>0.817391</td>\n",
       "    </tr>\n",
       "    <tr>\n",
       "      <th>f (majority)</th>\n",
       "      <td>0.068966</td>\n",
       "      <td>0.000000</td>\n",
       "      <td>0.722892</td>\n",
       "      <td>0.421622</td>\n",
       "      <td>0.751880</td>\n",
       "      <td>0.484848</td>\n",
       "      <td>0.721569</td>\n",
       "      <td>0.587678</td>\n",
       "      <td>0.683544</td>\n",
       "      <td>0.786765</td>\n",
       "      <td>0.881720</td>\n",
       "      <td>0.879121</td>\n",
       "      <td>0.929078</td>\n",
       "      <td>0.862069</td>\n",
       "      <td>0.896057</td>\n",
       "      <td>0.865248</td>\n",
       "      <td>0.902778</td>\n",
       "      <td>0.929577</td>\n",
       "      <td>0.901408</td>\n",
       "      <td>0.926316</td>\n",
       "    </tr>\n",
       "    <tr>\n",
       "      <th>AUC</th>\n",
       "      <td>0.566576</td>\n",
       "      <td>0.575658</td>\n",
       "      <td>0.672013</td>\n",
       "      <td>0.645418</td>\n",
       "      <td>0.620002</td>\n",
       "      <td>0.586980</td>\n",
       "      <td>0.660101</td>\n",
       "      <td>0.665350</td>\n",
       "      <td>0.655974</td>\n",
       "      <td>0.684751</td>\n",
       "      <td>0.815544</td>\n",
       "      <td>0.816901</td>\n",
       "      <td>0.901227</td>\n",
       "      <td>0.781224</td>\n",
       "      <td>0.870622</td>\n",
       "      <td>0.806935</td>\n",
       "      <td>0.880410</td>\n",
       "      <td>0.911428</td>\n",
       "      <td>0.900342</td>\n",
       "      <td>0.869796</td>\n",
       "    </tr>\n",
       "    <tr>\n",
       "      <th>max MCC</th>\n",
       "      <td>0.191680</td>\n",
       "      <td>0.139396</td>\n",
       "      <td>0.295787</td>\n",
       "      <td>0.255424</td>\n",
       "      <td>0.264714</td>\n",
       "      <td>0.166575</td>\n",
       "      <td>0.288023</td>\n",
       "      <td>0.275688</td>\n",
       "      <td>0.281959</td>\n",
       "      <td>0.335124</td>\n",
       "      <td>0.620729</td>\n",
       "      <td>0.620585</td>\n",
       "      <td>0.760581</td>\n",
       "      <td>0.506400</td>\n",
       "      <td>0.657904</td>\n",
       "      <td>0.580915</td>\n",
       "      <td>0.671947</td>\n",
       "      <td>0.759442</td>\n",
       "      <td>0.683154</td>\n",
       "      <td>0.746812</td>\n",
       "    </tr>\n",
       "  </tbody>\n",
       "</table>\n",
       "</div>"
      ],
      "text/plain": [
       "modality        Modality_1                                                    \\\n",
       "base predictor        ADAB        DT        GB       KNN        LR       MLP   \n",
       "fmax (minority)   0.470588  0.467433  0.543046  0.502326  0.507463  0.495050   \n",
       "f (majority)      0.068966  0.000000  0.722892  0.421622  0.751880  0.484848   \n",
       "AUC               0.566576  0.575658  0.672013  0.645418  0.620002  0.586980   \n",
       "max MCC           0.191680  0.139396  0.295787  0.255424  0.264714  0.166575   \n",
       "\n",
       "modality                                                Modality_2            \\\n",
       "base predictor         NB        RF       SVM       XGB       ADAB        DT   \n",
       "fmax (minority)  0.520548  0.539683  0.539877  0.546875   0.727273  0.740157   \n",
       "f (majority)     0.721569  0.587678  0.683544  0.786765   0.881720  0.879121   \n",
       "AUC              0.660101  0.665350  0.655974  0.684751   0.815544  0.816901   \n",
       "max MCC          0.288023  0.275688  0.281959  0.335124   0.620729  0.620585   \n",
       "\n",
       "modality                                                                     \\\n",
       "base predictor         GB       KNN        LR       MLP        NB        RF   \n",
       "fmax (minority)  0.830508  0.636364  0.760331  0.677966  0.761062  0.827586   \n",
       "f (majority)     0.929078  0.862069  0.896057  0.865248  0.902778  0.929577   \n",
       "AUC              0.901227  0.781224  0.870622  0.806935  0.880410  0.911428   \n",
       "max MCC          0.760581  0.506400  0.657904  0.580915  0.671947  0.759442   \n",
       "\n",
       "modality                             \n",
       "base predictor        SVM       XGB  \n",
       "fmax (minority)  0.769231  0.817391  \n",
       "f (majority)     0.901408  0.926316  \n",
       "AUC              0.900342  0.869796  \n",
       "max MCC          0.683154  0.746812  "
      ]
     },
     "execution_count": 9,
     "metadata": {},
     "output_type": "execute_result"
    }
   ],
   "source": [
    "EI.base_summary['metrics']"
   ]
  },
  {
   "cell_type": "markdown",
   "metadata": {},
   "source": [
    "Now let's define some meta models for stacked generalization:"
   ]
  },
  {
   "cell_type": "code",
   "execution_count": 10,
   "metadata": {},
   "outputs": [],
   "source": [
    "meta_models = {\n",
    "                    'ADAB': AdaBoostClassifier(),\n",
    "                    'XGB': XGBClassifier(),\n",
    "                    'DT': DecisionTreeClassifier(),\n",
    "                    \"RF\": RandomForestClassifier(), \n",
    "                    'GB': GradientBoostingClassifier(),\n",
    "                    'KNN': KNeighborsClassifier(),\n",
    "                    'LR': LogisticRegression(),\n",
    "                    'NB': GaussianNB(),\n",
    "                    'MLP': MLPClassifier(),\n",
    "                    'SVM': SVC(probability=True),\n",
    "}"
   ]
  },
  {
   "cell_type": "markdown",
   "metadata": {},
   "source": [
    "Train meta models:"
   ]
  },
  {
   "cell_type": "code",
   "execution_count": 11,
   "metadata": {},
   "outputs": [
    {
     "name": "stderr",
     "output_type": "stream",
     "text": [
      "Analyzing ensembles: |██████████|100%\n",
      "Training final meta models: |██████████|100%\n"
     ]
    },
    {
     "data": {
      "text/plain": [
       "<eipy.ei.EnsembleIntegration at 0x7fa9a20b0460>"
      ]
     },
     "execution_count": 11,
     "metadata": {},
     "output_type": "execute_result"
    }
   ],
   "source": [
    "EI.train_meta(meta_models=meta_models)"
   ]
  },
  {
   "cell_type": "markdown",
   "metadata": {},
   "source": [
    "Check the meta summary with `meta_summary`:"
   ]
  },
  {
   "cell_type": "code",
   "execution_count": 12,
   "metadata": {},
   "outputs": [
    {
     "data": {
      "text/html": [
       "<div>\n",
       "<style scoped>\n",
       "    .dataframe tbody tr th:only-of-type {\n",
       "        vertical-align: middle;\n",
       "    }\n",
       "\n",
       "    .dataframe tbody tr th {\n",
       "        vertical-align: top;\n",
       "    }\n",
       "\n",
       "    .dataframe thead th {\n",
       "        text-align: right;\n",
       "    }\n",
       "</style>\n",
       "<table border=\"1\" class=\"dataframe\">\n",
       "  <thead>\n",
       "    <tr style=\"text-align: right;\">\n",
       "      <th></th>\n",
       "      <th>Mean</th>\n",
       "      <th>CES</th>\n",
       "      <th>S.ADAB</th>\n",
       "      <th>S.XGB</th>\n",
       "      <th>S.DT</th>\n",
       "      <th>S.RF</th>\n",
       "      <th>S.GB</th>\n",
       "      <th>S.KNN</th>\n",
       "      <th>S.LR</th>\n",
       "      <th>S.NB</th>\n",
       "      <th>S.MLP</th>\n",
       "      <th>S.SVM</th>\n",
       "    </tr>\n",
       "  </thead>\n",
       "  <tbody>\n",
       "    <tr>\n",
       "      <th>fmax (minority)</th>\n",
       "      <td>0.752137</td>\n",
       "      <td>0.786325</td>\n",
       "      <td>0.788462</td>\n",
       "      <td>0.810811</td>\n",
       "      <td>0.690265</td>\n",
       "      <td>0.810345</td>\n",
       "      <td>0.774194</td>\n",
       "      <td>0.817391</td>\n",
       "      <td>0.844037</td>\n",
       "      <td>0.831858</td>\n",
       "      <td>0.844037</td>\n",
       "      <td>0.844037</td>\n",
       "    </tr>\n",
       "    <tr>\n",
       "      <th>f (majority)</th>\n",
       "      <td>0.897527</td>\n",
       "      <td>0.911661</td>\n",
       "      <td>0.925676</td>\n",
       "      <td>0.927336</td>\n",
       "      <td>0.878049</td>\n",
       "      <td>0.922535</td>\n",
       "      <td>0.898551</td>\n",
       "      <td>0.926316</td>\n",
       "      <td>0.938356</td>\n",
       "      <td>0.930556</td>\n",
       "      <td>0.938356</td>\n",
       "      <td>0.941581</td>\n",
       "    </tr>\n",
       "    <tr>\n",
       "      <th>AUC</th>\n",
       "      <td>0.873334</td>\n",
       "      <td>0.885954</td>\n",
       "      <td>0.844439</td>\n",
       "      <td>0.869442</td>\n",
       "      <td>0.772910</td>\n",
       "      <td>0.878877</td>\n",
       "      <td>0.845029</td>\n",
       "      <td>0.881944</td>\n",
       "      <td>0.893620</td>\n",
       "      <td>0.891968</td>\n",
       "      <td>0.890317</td>\n",
       "      <td>0.853167</td>\n",
       "    </tr>\n",
       "    <tr>\n",
       "      <th>max MCC</th>\n",
       "      <td>0.644859</td>\n",
       "      <td>0.699489</td>\n",
       "      <td>0.724959</td>\n",
       "      <td>0.746129</td>\n",
       "      <td>0.572913</td>\n",
       "      <td>0.751622</td>\n",
       "      <td>0.688133</td>\n",
       "      <td>0.746812</td>\n",
       "      <td>0.785427</td>\n",
       "      <td>0.746812</td>\n",
       "      <td>0.797428</td>\n",
       "      <td>0.797428</td>\n",
       "    </tr>\n",
       "  </tbody>\n",
       "</table>\n",
       "</div>"
      ],
      "text/plain": [
       "                     Mean       CES    S.ADAB     S.XGB      S.DT      S.RF  \\\n",
       "fmax (minority)  0.752137  0.786325  0.788462  0.810811  0.690265  0.810345   \n",
       "f (majority)     0.897527  0.911661  0.925676  0.927336  0.878049  0.922535   \n",
       "AUC              0.873334  0.885954  0.844439  0.869442  0.772910  0.878877   \n",
       "max MCC          0.644859  0.699489  0.724959  0.746129  0.572913  0.751622   \n",
       "\n",
       "                     S.GB     S.KNN      S.LR      S.NB     S.MLP     S.SVM  \n",
       "fmax (minority)  0.774194  0.817391  0.844037  0.831858  0.844037  0.844037  \n",
       "f (majority)     0.898551  0.926316  0.938356  0.930556  0.938356  0.941581  \n",
       "AUC              0.845029  0.881944  0.893620  0.891968  0.890317  0.853167  \n",
       "max MCC          0.688133  0.746812  0.785427  0.746812  0.797428  0.797428  "
      ]
     },
     "execution_count": 12,
     "metadata": {},
     "output_type": "execute_result"
    }
   ],
   "source": [
    "EI.meta_summary['metrics']"
   ]
  },
  {
   "cell_type": "markdown",
   "metadata": {},
   "source": [
    "The Logistic regression stacking algorithm has the best $\\text{F}_\\text{max}$ performance so let's select it as our final model. Since we ran EI with `model_building=True`, we can now predict. Let's just predict the training data, and apply the $\\text{F}_\\text{max}$ training threshold:"
   ]
  },
  {
   "cell_type": "code",
   "execution_count": 13,
   "metadata": {},
   "outputs": [
    {
     "name": "stdout",
     "output_type": "stream",
     "text": [
      "[1. 1. 0. 1. 1. 0. 0. 0. 1. 0. 0. 1. 1. 0. 1. 1. 1. 0. 1. 0. 0. 0. 1. 1.\n",
      " 1. 1. 0. 1. 0. 1. 1. 0. 1. 1. 1. 1. 0. 0. 1. 1. 0. 1. 1. 1. 0. 1. 1. 0.\n",
      " 1. 1. 1. 1. 1. 0. 0. 1. 0. 0. 1. 0. 1. 0. 1. 0. 1. 0. 0. 1. 1. 0. 1. 1.\n",
      " 1. 0. 1. 1. 1. 0. 1. 1. 1. 1. 1. 1. 1. 1. 1. 0. 1. 1. 1. 1. 1. 1. 1. 0.\n",
      " 0. 1. 1. 0. 0. 0. 1. 0. 0. 1. 0. 1. 0. 0. 1. 1. 0. 0. 1. 1. 0. 1. 0. 1.\n",
      " 1. 1. 1. 0. 1. 1. 0. 1. 0. 1. 0. 1. 1. 1. 0. 1. 0. 0. 1. 0. 1. 1. 1. 0.\n",
      " 0. 1. 0. 1. 1. 0. 1. 1. 1. 1. 1. 0. 1. 1. 0. 1. 1. 1. 0. 0. 0. 1. 0. 0.\n",
      " 1. 1. 0. 1. 0. 1. 0. 1. 1. 0. 1. 1. 1. 1. 1. 1. 1. 1. 1. 1. 1. 1. 1. 1.\n",
      " 1. 0. 1. 0. 1. 1. 0. 1.]\n"
     ]
    }
   ],
   "source": [
    "y_pred = EI.predict(X_dictionary=data, meta_model_key='S.LR') # stacked generalisation algorithms have the prefix 'S.'\n",
    "\n",
    "threshold = EI.meta_summary['thresholds']['S.LR']['fmax (minority)']\n",
    "\n",
    "y_pred[y_pred>=threshold] = 1\n",
    "y_pred[y_pred<threshold] = 0\n",
    "\n",
    "print(y_pred)"
   ]
  }
 ],
 "metadata": {
  "kernelspec": {
   "display_name": "tf",
   "language": "python",
   "name": "python3"
  },
  "language_info": {
   "codemirror_mode": {
    "name": "ipython",
    "version": 3
   },
   "file_extension": ".py",
   "mimetype": "text/x-python",
   "name": "python",
   "nbconvert_exporter": "python",
   "pygments_lexer": "ipython3",
   "version": "3.10.9"
  },
  "orig_nbformat": 4,
  "vscode": {
   "interpreter": {
    "hash": "11e74c3c36c376ffcb66f65df8248706fe68363becca747991fd07d52526dccb"
   }
  }
 },
 "nbformat": 4,
 "nbformat_minor": 2
}
