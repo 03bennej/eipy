{
 "cells": [
  {
   "cell_type": "markdown",
   "metadata": {},
   "source": [
    "# Tutorial"
   ]
  },
  {
   "cell_type": "markdown",
   "metadata": {},
   "source": [
    "In this tutorial we fairly compare a number of ensemble methods using EI's built in nested cross-validation implementation, and show how predictions can be made with the selected final model. We then show how we can intepret the model by calculating feature rankings.\n",
    "\n",
    "### Performance analysis and selection of ensemble methods\n",
    "\n",
    "First of all let's import some `sklearn` models, `EnsembleIntegration` and some additional ensemble methods:"
   ]
  },
  {
   "cell_type": "code",
   "execution_count": 1,
   "metadata": {},
   "outputs": [],
   "source": [
    "from sklearn.ensemble import AdaBoostClassifier, GradientBoostingClassifier, RandomForestClassifier\n",
    "from sklearn.tree import DecisionTreeClassifier\n",
    "from sklearn.neighbors import KNeighborsClassifier\n",
    "from sklearn.linear_model import LogisticRegression\n",
    "from sklearn.naive_bayes import GaussianNB\n",
    "from sklearn.svm import SVC\n",
    "from sklearn.neural_network import MLPClassifier\n",
    "from xgboost import XGBClassifier\n",
    "from eipy.ei import EnsembleIntegration\n",
    "from eipy.additional_ensembles import MeanAggregation, CES"
   ]
  },
  {
   "cell_type": "markdown",
   "metadata": {},
   "source": [
    "Next make some dummy \"multi-modal\" data from the breast cancer dataset:"
   ]
  },
  {
   "cell_type": "code",
   "execution_count": 49,
   "metadata": {},
   "outputs": [],
   "source": [
    "import numpy as np\n",
    "from sklearn.datasets import load_breast_cancer\n",
    "\n",
    "data = load_breast_cancer()\n",
    "feature_names = data.feature_names\n",
    "X = data.data\n",
    "y = np.abs(data.target - 1)  # make \"malignancy\" the positive class rather than \"benign\"\n",
    "\n",
    "X_1 = X[:, 0:10]\n",
    "X_2 = X[:, 10:]"
   ]
  },
  {
   "cell_type": "markdown",
   "metadata": {},
   "source": [
    "Create a dictionary containing data modalities:"
   ]
  },
  {
   "cell_type": "code",
   "execution_count": 51,
   "metadata": {},
   "outputs": [],
   "source": [
    "data = {\n",
    "                \"Modality_1\": X_1,\n",
    "                \"Modality_2\": X_2\n",
    "                }"
   ]
  },
  {
   "cell_type": "markdown",
   "metadata": {},
   "source": [
    "Define base predictors:"
   ]
  },
  {
   "cell_type": "code",
   "execution_count": 52,
   "metadata": {},
   "outputs": [],
   "source": [
    "base_predictors = {\n",
    "                    'ADAB': AdaBoostClassifier(),\n",
    "                    'XGB': XGBClassifier(),\n",
    "                    'DT': DecisionTreeClassifier(),\n",
    "                    'RF': RandomForestClassifier(), \n",
    "                    'GB': GradientBoostingClassifier(),\n",
    "                    'KNN': KNeighborsClassifier(),\n",
    "                    'LR': LogisticRegression(),\n",
    "                    'NB': GaussianNB(),\n",
    "                    'MLP': MLPClassifier(),\n",
    "                    'SVM': SVC(probability=True),\n",
    "}"
   ]
  },
  {
   "cell_type": "markdown",
   "metadata": {},
   "source": [
    "Initialise Ensemble Integration:"
   ]
  },
  {
   "cell_type": "code",
   "execution_count": 53,
   "metadata": {},
   "outputs": [],
   "source": [
    "EI = EnsembleIntegration(base_predictors=base_predictors,\n",
    "                        k_outer=5,\n",
    "                        k_inner=5,\n",
    "                        n_samples=1,\n",
    "                        sampling_strategy=\"undersampling\",\n",
    "                        sampling_aggregation=\"mean\",\n",
    "                        n_jobs=-1,\n",
    "                        random_state=38,\n",
    "                        project_name=\"breast_cancer\",\n",
    "                        model_building=True,\n",
    "                        )"
   ]
  },
  {
   "cell_type": "markdown",
   "metadata": {},
   "source": [
    "Train base predictors on each modality. Remember to include the unique modality name."
   ]
  },
  {
   "cell_type": "code",
   "execution_count": 54,
   "metadata": {},
   "outputs": [
    {
     "name": "stdout",
     "output_type": "stream",
     "text": [
      "Training base predictors on Modality_1...\n",
      "\n",
      "... for ensemble performance analysis...\n"
     ]
    },
    {
     "name": "stderr",
     "output_type": "stream",
     "text": [
      "Generating meta training data: |██████████|100%\n",
      "Generating meta test data: |██████████|100%\n"
     ]
    },
    {
     "name": "stdout",
     "output_type": "stream",
     "text": [
      "\n",
      "... for final ensemble...\n"
     ]
    },
    {
     "name": "stderr",
     "output_type": "stream",
     "text": [
      "Generating meta training data: |██████████|100%\n",
      "Training final base predictors: |██████████|100%\n"
     ]
    },
    {
     "name": "stdout",
     "output_type": "stream",
     "text": [
      "\n",
      "\n",
      "Training base predictors on Modality_2...\n",
      "\n",
      "... for ensemble performance analysis...\n"
     ]
    },
    {
     "name": "stderr",
     "output_type": "stream",
     "text": [
      "Generating meta training data: |██████████|100%\n",
      "Generating meta test data: |██████████|100%\n"
     ]
    },
    {
     "name": "stdout",
     "output_type": "stream",
     "text": [
      "\n",
      "... for final ensemble...\n"
     ]
    },
    {
     "name": "stderr",
     "output_type": "stream",
     "text": [
      "Generating meta training data: |██████████|100%\n",
      "Training final base predictors: |██████████|100%\n"
     ]
    },
    {
     "name": "stdout",
     "output_type": "stream",
     "text": [
      "\n",
      "\n"
     ]
    }
   ],
   "source": [
    "for name, modality in data.items():\n",
    "    EI.train_base(modality, y, modality=name)"
   ]
  },
  {
   "cell_type": "markdown",
   "metadata": {},
   "source": [
    "We can check the cross validated performance of each base predictor on each modality with `base_summary`:"
   ]
  },
  {
   "cell_type": "code",
   "execution_count": 56,
   "metadata": {},
   "outputs": [
    {
     "data": {
      "text/html": [
       "<div>\n",
       "<style scoped>\n",
       "    .dataframe tbody tr th:only-of-type {\n",
       "        vertical-align: middle;\n",
       "    }\n",
       "\n",
       "    .dataframe tbody tr th {\n",
       "        vertical-align: top;\n",
       "    }\n",
       "\n",
       "    .dataframe thead tr th {\n",
       "        text-align: left;\n",
       "    }\n",
       "</style>\n",
       "<table border=\"1\" class=\"dataframe\">\n",
       "  <thead>\n",
       "    <tr>\n",
       "      <th>modality</th>\n",
       "      <th colspan=\"10\" halign=\"left\">Modality_1</th>\n",
       "      <th colspan=\"10\" halign=\"left\">Modality_2</th>\n",
       "    </tr>\n",
       "    <tr>\n",
       "      <th>base predictor</th>\n",
       "      <th>ADAB</th>\n",
       "      <th>DT</th>\n",
       "      <th>GB</th>\n",
       "      <th>KNN</th>\n",
       "      <th>LR</th>\n",
       "      <th>MLP</th>\n",
       "      <th>NB</th>\n",
       "      <th>RF</th>\n",
       "      <th>SVM</th>\n",
       "      <th>XGB</th>\n",
       "      <th>ADAB</th>\n",
       "      <th>DT</th>\n",
       "      <th>GB</th>\n",
       "      <th>KNN</th>\n",
       "      <th>LR</th>\n",
       "      <th>MLP</th>\n",
       "      <th>NB</th>\n",
       "      <th>RF</th>\n",
       "      <th>SVM</th>\n",
       "      <th>XGB</th>\n",
       "    </tr>\n",
       "  </thead>\n",
       "  <tbody>\n",
       "    <tr>\n",
       "      <th>fmax (minority)</th>\n",
       "      <td>0.920188</td>\n",
       "      <td>0.868009</td>\n",
       "      <td>0.929577</td>\n",
       "      <td>0.836879</td>\n",
       "      <td>0.893617</td>\n",
       "      <td>0.841346</td>\n",
       "      <td>0.907449</td>\n",
       "      <td>0.928910</td>\n",
       "      <td>0.841558</td>\n",
       "      <td>0.933025</td>\n",
       "      <td>0.947619</td>\n",
       "      <td>0.910755</td>\n",
       "      <td>0.964706</td>\n",
       "      <td>0.882206</td>\n",
       "      <td>0.941725</td>\n",
       "      <td>0.908189</td>\n",
       "      <td>0.934272</td>\n",
       "      <td>0.957746</td>\n",
       "      <td>0.887218</td>\n",
       "      <td>0.963680</td>\n",
       "    </tr>\n",
       "    <tr>\n",
       "      <th>f (majority)</th>\n",
       "      <td>0.952247</td>\n",
       "      <td>0.914616</td>\n",
       "      <td>0.957865</td>\n",
       "      <td>0.903497</td>\n",
       "      <td>0.937063</td>\n",
       "      <td>0.908587</td>\n",
       "      <td>0.941007</td>\n",
       "      <td>0.958101</td>\n",
       "      <td>0.918991</td>\n",
       "      <td>0.958865</td>\n",
       "      <td>0.969359</td>\n",
       "      <td>0.944365</td>\n",
       "      <td>0.978962</td>\n",
       "      <td>0.936401</td>\n",
       "      <td>0.964739</td>\n",
       "      <td>0.949660</td>\n",
       "      <td>0.960674</td>\n",
       "      <td>0.974719</td>\n",
       "      <td>0.939107</td>\n",
       "      <td>0.979310</td>\n",
       "    </tr>\n",
       "    <tr>\n",
       "      <th>AUC</th>\n",
       "      <td>0.984515</td>\n",
       "      <td>0.900124</td>\n",
       "      <td>0.983048</td>\n",
       "      <td>0.925209</td>\n",
       "      <td>0.973125</td>\n",
       "      <td>0.936658</td>\n",
       "      <td>0.975781</td>\n",
       "      <td>0.984851</td>\n",
       "      <td>0.937173</td>\n",
       "      <td>0.983550</td>\n",
       "      <td>0.985955</td>\n",
       "      <td>0.932925</td>\n",
       "      <td>0.990341</td>\n",
       "      <td>0.961253</td>\n",
       "      <td>0.989839</td>\n",
       "      <td>0.968884</td>\n",
       "      <td>0.990381</td>\n",
       "      <td>0.991022</td>\n",
       "      <td>0.969254</td>\n",
       "      <td>0.994305</td>\n",
       "    </tr>\n",
       "    <tr>\n",
       "      <th>max MCC</th>\n",
       "      <td>0.864439</td>\n",
       "      <td>0.785814</td>\n",
       "      <td>0.887469</td>\n",
       "      <td>0.753639</td>\n",
       "      <td>0.826775</td>\n",
       "      <td>0.754265</td>\n",
       "      <td>0.850729</td>\n",
       "      <td>0.887975</td>\n",
       "      <td>0.771895</td>\n",
       "      <td>0.888915</td>\n",
       "      <td>0.909783</td>\n",
       "      <td>0.856198</td>\n",
       "      <td>0.943675</td>\n",
       "      <td>0.822812</td>\n",
       "      <td>0.906350</td>\n",
       "      <td>0.856887</td>\n",
       "      <td>0.894973</td>\n",
       "      <td>0.932493</td>\n",
       "      <td>0.830873</td>\n",
       "      <td>0.943838</td>\n",
       "    </tr>\n",
       "  </tbody>\n",
       "</table>\n",
       "</div>"
      ],
      "text/plain": [
       "modality        Modality_1                                                    \\\n",
       "base predictor        ADAB        DT        GB       KNN        LR       MLP   \n",
       "fmax (minority)   0.920188  0.868009  0.929577  0.836879  0.893617  0.841346   \n",
       "f (majority)      0.952247  0.914616  0.957865  0.903497  0.937063  0.908587   \n",
       "AUC               0.984515  0.900124  0.983048  0.925209  0.973125  0.936658   \n",
       "max MCC           0.864439  0.785814  0.887469  0.753639  0.826775  0.754265   \n",
       "\n",
       "modality                                                Modality_2            \\\n",
       "base predictor         NB        RF       SVM       XGB       ADAB        DT   \n",
       "fmax (minority)  0.907449  0.928910  0.841558  0.933025   0.947619  0.910755   \n",
       "f (majority)     0.941007  0.958101  0.918991  0.958865   0.969359  0.944365   \n",
       "AUC              0.975781  0.984851  0.937173  0.983550   0.985955  0.932925   \n",
       "max MCC          0.850729  0.887975  0.771895  0.888915   0.909783  0.856198   \n",
       "\n",
       "modality                                                                     \\\n",
       "base predictor         GB       KNN        LR       MLP        NB        RF   \n",
       "fmax (minority)  0.964706  0.882206  0.941725  0.908189  0.934272  0.957746   \n",
       "f (majority)     0.978962  0.936401  0.964739  0.949660  0.960674  0.974719   \n",
       "AUC              0.990341  0.961253  0.989839  0.968884  0.990381  0.991022   \n",
       "max MCC          0.943675  0.822812  0.906350  0.856887  0.894973  0.932493   \n",
       "\n",
       "modality                             \n",
       "base predictor        SVM       XGB  \n",
       "fmax (minority)  0.887218  0.963680  \n",
       "f (majority)     0.939107  0.979310  \n",
       "AUC              0.969254  0.994305  \n",
       "max MCC          0.830873  0.943838  "
      ]
     },
     "execution_count": 56,
     "metadata": {},
     "output_type": "execute_result"
    }
   ],
   "source": [
    "EI.base_summary['metrics']"
   ]
  },
  {
   "cell_type": "markdown",
   "metadata": {},
   "source": [
    "Now let's define some meta models for stacked generalization. We add an \"S.\" prefix to the keys of stacking algorithms."
   ]
  },
  {
   "cell_type": "code",
   "execution_count": 57,
   "metadata": {},
   "outputs": [],
   "source": [
    "meta_predictors = {     \n",
    "                    'Mean' : MeanAggregation(),\n",
    "                    'CES' : CES(),\n",
    "                    'S.ADAB': AdaBoostClassifier(),\n",
    "                    'S.XGB': XGBClassifier(),\n",
    "                    'S.DT': DecisionTreeClassifier(),\n",
    "                    \"S.RF\": RandomForestClassifier(), \n",
    "                    'S.GB': GradientBoostingClassifier(),\n",
    "                    'S.KNN': KNeighborsClassifier(),\n",
    "                    'S.LR': LogisticRegression(),\n",
    "                    'S.NB': GaussianNB(),\n",
    "                    'S.MLP': MLPClassifier(),\n",
    "                    'S.SVM': SVC(probability=True),\n",
    "}"
   ]
  },
  {
   "cell_type": "markdown",
   "metadata": {},
   "source": [
    "Train meta models:"
   ]
  },
  {
   "cell_type": "code",
   "execution_count": 58,
   "metadata": {},
   "outputs": [
    {
     "name": "stderr",
     "output_type": "stream",
     "text": [
      "Analyzing ensembles: |██████████|100%\n",
      "Training final meta models: |██████████|100%\n"
     ]
    },
    {
     "data": {
      "text/plain": [
       "<eipy.ei.EnsembleIntegration at 0x7f3d60302fe0>"
      ]
     },
     "execution_count": 58,
     "metadata": {},
     "output_type": "execute_result"
    }
   ],
   "source": [
    "EI.train_meta(meta_predictors=meta_predictors)"
   ]
  },
  {
   "cell_type": "markdown",
   "metadata": {},
   "source": [
    "Check the meta summary with `meta_summary`:"
   ]
  },
  {
   "cell_type": "code",
   "execution_count": 59,
   "metadata": {},
   "outputs": [
    {
     "data": {
      "text/html": [
       "<div>\n",
       "<style scoped>\n",
       "    .dataframe tbody tr th:only-of-type {\n",
       "        vertical-align: middle;\n",
       "    }\n",
       "\n",
       "    .dataframe tbody tr th {\n",
       "        vertical-align: top;\n",
       "    }\n",
       "\n",
       "    .dataframe thead th {\n",
       "        text-align: right;\n",
       "    }\n",
       "</style>\n",
       "<table border=\"1\" class=\"dataframe\">\n",
       "  <thead>\n",
       "    <tr style=\"text-align: right;\">\n",
       "      <th></th>\n",
       "      <th>Mean</th>\n",
       "      <th>CES</th>\n",
       "      <th>S.ADAB</th>\n",
       "      <th>S.XGB</th>\n",
       "      <th>S.DT</th>\n",
       "      <th>S.RF</th>\n",
       "      <th>S.GB</th>\n",
       "      <th>S.KNN</th>\n",
       "      <th>S.LR</th>\n",
       "      <th>S.NB</th>\n",
       "      <th>S.MLP</th>\n",
       "      <th>S.SVM</th>\n",
       "    </tr>\n",
       "  </thead>\n",
       "  <tbody>\n",
       "    <tr>\n",
       "      <th>fmax (minority)</th>\n",
       "      <td>0.959233</td>\n",
       "      <td>0.959036</td>\n",
       "      <td>0.957547</td>\n",
       "      <td>0.961722</td>\n",
       "      <td>0.947867</td>\n",
       "      <td>0.966346</td>\n",
       "      <td>0.964029</td>\n",
       "      <td>0.956311</td>\n",
       "      <td>0.966507</td>\n",
       "      <td>0.964200</td>\n",
       "      <td>0.964029</td>\n",
       "      <td>0.968974</td>\n",
       "    </tr>\n",
       "    <tr>\n",
       "      <th>f (majority)</th>\n",
       "      <td>0.976422</td>\n",
       "      <td>0.976487</td>\n",
       "      <td>0.974790</td>\n",
       "      <td>0.977778</td>\n",
       "      <td>0.969274</td>\n",
       "      <td>0.980609</td>\n",
       "      <td>0.979196</td>\n",
       "      <td>0.975207</td>\n",
       "      <td>0.980556</td>\n",
       "      <td>0.979138</td>\n",
       "      <td>0.979196</td>\n",
       "      <td>0.981919</td>\n",
       "    </tr>\n",
       "    <tr>\n",
       "      <th>AUC</th>\n",
       "      <td>0.991081</td>\n",
       "      <td>0.991425</td>\n",
       "      <td>0.985155</td>\n",
       "      <td>0.989879</td>\n",
       "      <td>0.957693</td>\n",
       "      <td>0.990725</td>\n",
       "      <td>0.988393</td>\n",
       "      <td>0.985664</td>\n",
       "      <td>0.991729</td>\n",
       "      <td>0.984964</td>\n",
       "      <td>0.990553</td>\n",
       "      <td>0.986629</td>\n",
       "    </tr>\n",
       "    <tr>\n",
       "      <th>max MCC</th>\n",
       "      <td>0.935993</td>\n",
       "      <td>0.932354</td>\n",
       "      <td>0.928653</td>\n",
       "      <td>0.935993</td>\n",
       "      <td>0.917168</td>\n",
       "      <td>0.947402</td>\n",
       "      <td>0.943565</td>\n",
       "      <td>0.932522</td>\n",
       "      <td>0.947402</td>\n",
       "      <td>0.922254</td>\n",
       "      <td>0.943674</td>\n",
       "      <td>0.951067</td>\n",
       "    </tr>\n",
       "  </tbody>\n",
       "</table>\n",
       "</div>"
      ],
      "text/plain": [
       "                     Mean       CES    S.ADAB     S.XGB      S.DT      S.RF  \\\n",
       "fmax (minority)  0.959233  0.959036  0.957547  0.961722  0.947867  0.966346   \n",
       "f (majority)     0.976422  0.976487  0.974790  0.977778  0.969274  0.980609   \n",
       "AUC              0.991081  0.991425  0.985155  0.989879  0.957693  0.990725   \n",
       "max MCC          0.935993  0.932354  0.928653  0.935993  0.917168  0.947402   \n",
       "\n",
       "                     S.GB     S.KNN      S.LR      S.NB     S.MLP     S.SVM  \n",
       "fmax (minority)  0.964029  0.956311  0.966507  0.964200  0.964029  0.968974  \n",
       "f (majority)     0.979196  0.975207  0.980556  0.979138  0.979196  0.981919  \n",
       "AUC              0.988393  0.985664  0.991729  0.984964  0.990553  0.986629  \n",
       "max MCC          0.943565  0.932522  0.947402  0.922254  0.943674  0.951067  "
      ]
     },
     "execution_count": 59,
     "metadata": {},
     "output_type": "execute_result"
    }
   ],
   "source": [
    "EI.meta_summary['metrics']"
   ]
  },
  {
   "cell_type": "markdown",
   "metadata": {},
   "source": [
    "The SVM stacking algorithm has the best $\\text{F}_\\text{max}$ performance so let's select it as our final model. Since we ran EI with `model_building=True`, we can now predict. Let's just predict the training data, and apply the $\\text{F}_\\text{max}$ training threshold:"
   ]
  },
  {
   "cell_type": "code",
   "execution_count": 60,
   "metadata": {},
   "outputs": [
    {
     "name": "stdout",
     "output_type": "stream",
     "text": [
      "[1. 1. 1. 1. 1. 1. 1. 1. 1. 1. 1. 1. 1. 1. 1. 1. 1. 1. 1. 0. 0. 0. 1. 1.\n",
      " 1. 1. 1. 1. 1. 1. 1. 1. 1. 1. 1. 1. 1. 0. 1. 1. 1. 1. 1. 1. 1. 1. 0. 1.\n",
      " 0. 0. 0. 0. 0. 1. 1. 0. 1. 1. 0. 0. 0. 0. 1. 0. 1. 1. 0. 0. 0. 0. 1. 0.\n",
      " 1. 1. 0. 1. 0. 1. 1. 0. 0. 0. 1. 1. 0. 1. 1. 1. 0. 0. 0. 1. 0. 0. 1. 1.\n",
      " 0. 0. 0. 1. 1. 0. 0. 0. 0. 1. 0. 0. 1. 0. 0. 0. 0. 0. 0. 0. 0. 1. 1. 1.\n",
      " 0. 1. 1. 0. 0. 0. 1. 1. 0. 1. 0. 1. 1. 0. 1. 1. 0. 0. 1. 0. 0. 1. 0. 0.\n",
      " 0. 0. 1. 0. 0. 0. 0. 0. 0. 0. 0. 0. 1. 0. 0. 0. 0. 1. 1. 0. 1. 0. 0. 1.\n",
      " 1. 0. 0. 1. 1. 0. 0. 0. 0. 1. 0. 0. 1. 1. 1. 0. 1. 0. 1. 0. 0. 0. 1. 0.\n",
      " 0. 1. 1. 0. 1. 1. 1. 1. 0. 1. 1. 1. 0. 1. 0. 1. 0. 0. 1. 0. 1. 1. 1. 1.\n",
      " 0. 0. 1. 1. 0. 0. 0. 1. 0. 0. 0. 0. 0. 1. 1. 0. 0. 1. 0. 0. 1. 1. 0. 1.\n",
      " 0. 0. 0. 0. 1. 0. 0. 0. 0. 0. 1. 0. 1. 1. 1. 1. 1. 1. 1. 1. 1. 1. 1. 1.\n",
      " 1. 1. 0. 0. 0. 0. 0. 0. 1. 0. 1. 0. 0. 1. 0. 0. 1. 0. 1. 1. 0. 0. 0. 0.\n",
      " 0. 0. 0. 0. 0. 0. 0. 0. 0. 1. 0. 0. 1. 0. 1. 0. 0. 0. 0. 0. 0. 0. 0. 0.\n",
      " 0. 0. 0. 0. 0. 1. 0. 0. 0. 1. 0. 1. 0. 0. 0. 0. 1. 1. 1. 0. 0. 0. 0. 1.\n",
      " 0. 1. 0. 1. 0. 0. 0. 1. 0. 0. 0. 0. 0. 0. 0. 1. 1. 1. 0. 0. 0. 0. 0. 0.\n",
      " 0. 0. 0. 0. 0. 1. 1. 0. 1. 1. 1. 0. 1. 1. 0. 0. 0. 0. 0. 1. 0. 0. 0. 0.\n",
      " 0. 1. 0. 0. 0. 1. 0. 0. 1. 1. 0. 0. 0. 0. 0. 0. 1. 0. 0. 0. 0. 0. 0. 0.\n",
      " 1. 0. 0. 0. 0. 0. 1. 0. 0. 1. 0. 0. 0. 0. 0. 0. 0. 0. 0. 0. 0. 0. 1. 0.\n",
      " 1. 1. 0. 1. 0. 0. 0. 0. 0. 1. 0. 0. 1. 0. 1. 0. 0. 1. 0. 1. 0. 0. 0. 0.\n",
      " 0. 0. 0. 0. 1. 1. 0. 0. 0. 0. 0. 0. 1. 0. 0. 0. 0. 0. 0. 0. 0. 0. 0. 1.\n",
      " 0. 0. 0. 0. 0. 0. 0. 1. 0. 1. 0. 0. 1. 0. 0. 0. 0. 0. 1. 1. 0. 1. 0. 1.\n",
      " 0. 0. 0. 0. 0. 1. 0. 0. 1. 0. 1. 0. 1. 1. 0. 0. 0. 1. 0. 0. 0. 0. 0. 0.\n",
      " 0. 0. 0. 0. 0. 1. 0. 1. 1. 0. 0. 0. 0. 0. 0. 0. 0. 0. 0. 0. 0. 0. 0. 0.\n",
      " 0. 0. 0. 0. 0. 0. 0. 0. 0. 0. 1. 1. 1. 1. 1. 1. 0.]\n"
     ]
    }
   ],
   "source": [
    "y_pred = EI.predict(X_dict=data, meta_model_key='S.LR')\n",
    "\n",
    "threshold = EI.meta_summary['thresholds']['S.LR']['fmax (minority)']\n",
    "\n",
    "y_pred[y_pred>=threshold] = 1\n",
    "y_pred[y_pred<threshold] = 0\n",
    "\n",
    "print(y_pred)"
   ]
  },
  {
   "cell_type": "markdown",
   "metadata": {},
   "source": [
    "\n",
    "### Interpreting the final model\n",
    "\n",
    "We now use `PermutationInterpreter` to interpret the final SVM stacked generalization model. Let's first import the class and our chosen metric, and initialise the interpreter:"
   ]
  },
  {
   "cell_type": "code",
   "execution_count": 85,
   "metadata": {},
   "outputs": [],
   "source": [
    "from eipy.interpretation import PermutationInterpreter\n",
    "from eipy.utils import f_minority_score\n",
    "\n",
    "interpreter = PermutationInterpreter(EI=EI,\n",
    "                                     metric=f_minority_score,\n",
    "                                     meta_predictor_keys=['S.SVM'])"
   ]
  },
  {
   "cell_type": "markdown",
   "metadata": {},
   "source": [
    "Calculate feature importance scores:"
   ]
  },
  {
   "cell_type": "code",
   "execution_count": 86,
   "metadata": {},
   "outputs": [
    {
     "name": "stdout",
     "output_type": "stream",
     "text": [
      "Interpreting ensembles...\n",
      "\n"
     ]
    },
    {
     "name": "stderr",
     "output_type": "stream",
     "text": [
      "Calculating local feature ranks: |██████████|100%\n"
     ]
    },
    {
     "name": "stdout",
     "output_type": "stream",
     "text": [
      "complete!\n"
     ]
    },
    {
     "name": "stderr",
     "output_type": "stream",
     "text": [
      "Calculating local model ranks: |██████████|100%"
     ]
    },
    {
     "name": "stdout",
     "output_type": "stream",
     "text": [
      "complete!\n",
      "Calculating combined rank product score...\n",
      "... complete!\n"
     ]
    },
    {
     "name": "stderr",
     "output_type": "stream",
     "text": [
      "\n"
     ]
    },
    {
     "data": {
      "text/plain": [
       "<eipy.interpretation.PermutationInterpreter at 0x7f3d60117df0>"
      ]
     },
     "execution_count": 86,
     "metadata": {},
     "output_type": "execute_result"
    }
   ],
   "source": [
    "interpreter.rank_product_score(X_dict=data, y=y)"
   ]
  },
  {
   "cell_type": "markdown",
   "metadata": {},
   "source": [
    "We can now inspect the most important features for model prediction:"
   ]
  },
  {
   "cell_type": "code",
   "execution_count": 95,
   "metadata": {},
   "outputs": [],
   "source": [
    "ranking_dataframe = interpreter.ensemble_feature_ranking['S.SVM']\n",
    "reordered_feature_names = feature_names[ranking_dataframe.index]\n",
    "ranking_dataframe['feature'] = reordered_feature_names"
   ]
  },
  {
   "cell_type": "code",
   "execution_count": 96,
   "metadata": {},
   "outputs": [
    {
     "data": {
      "text/html": [
       "<div>\n",
       "<style scoped>\n",
       "    .dataframe tbody tr th:only-of-type {\n",
       "        vertical-align: middle;\n",
       "    }\n",
       "\n",
       "    .dataframe tbody tr th {\n",
       "        vertical-align: top;\n",
       "    }\n",
       "\n",
       "    .dataframe thead th {\n",
       "        text-align: right;\n",
       "    }\n",
       "</style>\n",
       "<table border=\"1\" class=\"dataframe\">\n",
       "  <thead>\n",
       "    <tr style=\"text-align: right;\">\n",
       "      <th></th>\n",
       "      <th>modality</th>\n",
       "      <th>feature</th>\n",
       "      <th>RPS</th>\n",
       "      <th>feature rank</th>\n",
       "      <th>ensemble method</th>\n",
       "    </tr>\n",
       "  </thead>\n",
       "  <tbody>\n",
       "    <tr>\n",
       "      <th>3</th>\n",
       "      <td>Modality_1</td>\n",
       "      <td>mean area</td>\n",
       "      <td>0.086000</td>\n",
       "      <td>1.0</td>\n",
       "      <td>S.SVM</td>\n",
       "    </tr>\n",
       "    <tr>\n",
       "      <th>13</th>\n",
       "      <td>Modality_2</td>\n",
       "      <td>area error</td>\n",
       "      <td>0.103750</td>\n",
       "      <td>2.0</td>\n",
       "      <td>S.SVM</td>\n",
       "    </tr>\n",
       "    <tr>\n",
       "      <th>22</th>\n",
       "      <td>Modality_2</td>\n",
       "      <td>worst perimeter</td>\n",
       "      <td>0.110250</td>\n",
       "      <td>3.0</td>\n",
       "      <td>S.SVM</td>\n",
       "    </tr>\n",
       "    <tr>\n",
       "      <th>23</th>\n",
       "      <td>Modality_2</td>\n",
       "      <td>worst area</td>\n",
       "      <td>0.120750</td>\n",
       "      <td>4.0</td>\n",
       "      <td>S.SVM</td>\n",
       "    </tr>\n",
       "    <tr>\n",
       "      <th>21</th>\n",
       "      <td>Modality_2</td>\n",
       "      <td>worst texture</td>\n",
       "      <td>0.174500</td>\n",
       "      <td>5.0</td>\n",
       "      <td>S.SVM</td>\n",
       "    </tr>\n",
       "    <tr>\n",
       "      <th>27</th>\n",
       "      <td>Modality_2</td>\n",
       "      <td>worst concave points</td>\n",
       "      <td>0.177125</td>\n",
       "      <td>6.0</td>\n",
       "      <td>S.SVM</td>\n",
       "    </tr>\n",
       "    <tr>\n",
       "      <th>1</th>\n",
       "      <td>Modality_1</td>\n",
       "      <td>mean texture</td>\n",
       "      <td>0.202000</td>\n",
       "      <td>7.0</td>\n",
       "      <td>S.SVM</td>\n",
       "    </tr>\n",
       "    <tr>\n",
       "      <th>7</th>\n",
       "      <td>Modality_1</td>\n",
       "      <td>mean concave points</td>\n",
       "      <td>0.202250</td>\n",
       "      <td>8.0</td>\n",
       "      <td>S.SVM</td>\n",
       "    </tr>\n",
       "    <tr>\n",
       "      <th>20</th>\n",
       "      <td>Modality_2</td>\n",
       "      <td>worst radius</td>\n",
       "      <td>0.209250</td>\n",
       "      <td>9.0</td>\n",
       "      <td>S.SVM</td>\n",
       "    </tr>\n",
       "    <tr>\n",
       "      <th>26</th>\n",
       "      <td>Modality_2</td>\n",
       "      <td>worst concavity</td>\n",
       "      <td>0.219375</td>\n",
       "      <td>10.0</td>\n",
       "      <td>S.SVM</td>\n",
       "    </tr>\n",
       "    <tr>\n",
       "      <th>2</th>\n",
       "      <td>Modality_1</td>\n",
       "      <td>mean perimeter</td>\n",
       "      <td>0.233000</td>\n",
       "      <td>11.0</td>\n",
       "      <td>S.SVM</td>\n",
       "    </tr>\n",
       "    <tr>\n",
       "      <th>6</th>\n",
       "      <td>Modality_1</td>\n",
       "      <td>mean concavity</td>\n",
       "      <td>0.242750</td>\n",
       "      <td>12.0</td>\n",
       "      <td>S.SVM</td>\n",
       "    </tr>\n",
       "    <tr>\n",
       "      <th>24</th>\n",
       "      <td>Modality_2</td>\n",
       "      <td>worst smoothness</td>\n",
       "      <td>0.258875</td>\n",
       "      <td>13.0</td>\n",
       "      <td>S.SVM</td>\n",
       "    </tr>\n",
       "    <tr>\n",
       "      <th>0</th>\n",
       "      <td>Modality_1</td>\n",
       "      <td>mean radius</td>\n",
       "      <td>0.315500</td>\n",
       "      <td>14.0</td>\n",
       "      <td>S.SVM</td>\n",
       "    </tr>\n",
       "    <tr>\n",
       "      <th>10</th>\n",
       "      <td>Modality_2</td>\n",
       "      <td>radius error</td>\n",
       "      <td>0.324625</td>\n",
       "      <td>15.0</td>\n",
       "      <td>S.SVM</td>\n",
       "    </tr>\n",
       "    <tr>\n",
       "      <th>4</th>\n",
       "      <td>Modality_1</td>\n",
       "      <td>mean smoothness</td>\n",
       "      <td>0.334250</td>\n",
       "      <td>16.0</td>\n",
       "      <td>S.SVM</td>\n",
       "    </tr>\n",
       "    <tr>\n",
       "      <th>5</th>\n",
       "      <td>Modality_1</td>\n",
       "      <td>mean compactness</td>\n",
       "      <td>0.338250</td>\n",
       "      <td>17.0</td>\n",
       "      <td>S.SVM</td>\n",
       "    </tr>\n",
       "    <tr>\n",
       "      <th>25</th>\n",
       "      <td>Modality_2</td>\n",
       "      <td>worst compactness</td>\n",
       "      <td>0.341250</td>\n",
       "      <td>18.0</td>\n",
       "      <td>S.SVM</td>\n",
       "    </tr>\n",
       "    <tr>\n",
       "      <th>28</th>\n",
       "      <td>Modality_2</td>\n",
       "      <td>worst symmetry</td>\n",
       "      <td>0.343375</td>\n",
       "      <td>19.0</td>\n",
       "      <td>S.SVM</td>\n",
       "    </tr>\n",
       "    <tr>\n",
       "      <th>11</th>\n",
       "      <td>Modality_2</td>\n",
       "      <td>texture error</td>\n",
       "      <td>0.347500</td>\n",
       "      <td>20.0</td>\n",
       "      <td>S.SVM</td>\n",
       "    </tr>\n",
       "    <tr>\n",
       "      <th>17</th>\n",
       "      <td>Modality_2</td>\n",
       "      <td>concave points error</td>\n",
       "      <td>0.351625</td>\n",
       "      <td>21.0</td>\n",
       "      <td>S.SVM</td>\n",
       "    </tr>\n",
       "    <tr>\n",
       "      <th>15</th>\n",
       "      <td>Modality_2</td>\n",
       "      <td>compactness error</td>\n",
       "      <td>0.352625</td>\n",
       "      <td>22.0</td>\n",
       "      <td>S.SVM</td>\n",
       "    </tr>\n",
       "    <tr>\n",
       "      <th>14</th>\n",
       "      <td>Modality_2</td>\n",
       "      <td>smoothness error</td>\n",
       "      <td>0.364875</td>\n",
       "      <td>23.0</td>\n",
       "      <td>S.SVM</td>\n",
       "    </tr>\n",
       "    <tr>\n",
       "      <th>16</th>\n",
       "      <td>Modality_2</td>\n",
       "      <td>concavity error</td>\n",
       "      <td>0.373875</td>\n",
       "      <td>24.0</td>\n",
       "      <td>S.SVM</td>\n",
       "    </tr>\n",
       "    <tr>\n",
       "      <th>29</th>\n",
       "      <td>Modality_2</td>\n",
       "      <td>worst fractal dimension</td>\n",
       "      <td>0.377500</td>\n",
       "      <td>25.0</td>\n",
       "      <td>S.SVM</td>\n",
       "    </tr>\n",
       "    <tr>\n",
       "      <th>12</th>\n",
       "      <td>Modality_2</td>\n",
       "      <td>perimeter error</td>\n",
       "      <td>0.377750</td>\n",
       "      <td>26.0</td>\n",
       "      <td>S.SVM</td>\n",
       "    </tr>\n",
       "    <tr>\n",
       "      <th>19</th>\n",
       "      <td>Modality_2</td>\n",
       "      <td>fractal dimension error</td>\n",
       "      <td>0.382125</td>\n",
       "      <td>27.0</td>\n",
       "      <td>S.SVM</td>\n",
       "    </tr>\n",
       "    <tr>\n",
       "      <th>8</th>\n",
       "      <td>Modality_1</td>\n",
       "      <td>mean symmetry</td>\n",
       "      <td>0.388250</td>\n",
       "      <td>28.0</td>\n",
       "      <td>S.SVM</td>\n",
       "    </tr>\n",
       "    <tr>\n",
       "      <th>18</th>\n",
       "      <td>Modality_2</td>\n",
       "      <td>symmetry error</td>\n",
       "      <td>0.411500</td>\n",
       "      <td>29.0</td>\n",
       "      <td>S.SVM</td>\n",
       "    </tr>\n",
       "    <tr>\n",
       "      <th>9</th>\n",
       "      <td>Modality_1</td>\n",
       "      <td>mean fractal dimension</td>\n",
       "      <td>0.435250</td>\n",
       "      <td>30.0</td>\n",
       "      <td>S.SVM</td>\n",
       "    </tr>\n",
       "  </tbody>\n",
       "</table>\n",
       "</div>"
      ],
      "text/plain": [
       "      modality                  feature       RPS  feature rank  \\\n",
       "3   Modality_1                mean area  0.086000           1.0   \n",
       "13  Modality_2               area error  0.103750           2.0   \n",
       "22  Modality_2          worst perimeter  0.110250           3.0   \n",
       "23  Modality_2               worst area  0.120750           4.0   \n",
       "21  Modality_2            worst texture  0.174500           5.0   \n",
       "27  Modality_2     worst concave points  0.177125           6.0   \n",
       "1   Modality_1             mean texture  0.202000           7.0   \n",
       "7   Modality_1      mean concave points  0.202250           8.0   \n",
       "20  Modality_2             worst radius  0.209250           9.0   \n",
       "26  Modality_2          worst concavity  0.219375          10.0   \n",
       "2   Modality_1           mean perimeter  0.233000          11.0   \n",
       "6   Modality_1           mean concavity  0.242750          12.0   \n",
       "24  Modality_2         worst smoothness  0.258875          13.0   \n",
       "0   Modality_1              mean radius  0.315500          14.0   \n",
       "10  Modality_2             radius error  0.324625          15.0   \n",
       "4   Modality_1          mean smoothness  0.334250          16.0   \n",
       "5   Modality_1         mean compactness  0.338250          17.0   \n",
       "25  Modality_2        worst compactness  0.341250          18.0   \n",
       "28  Modality_2           worst symmetry  0.343375          19.0   \n",
       "11  Modality_2            texture error  0.347500          20.0   \n",
       "17  Modality_2     concave points error  0.351625          21.0   \n",
       "15  Modality_2        compactness error  0.352625          22.0   \n",
       "14  Modality_2         smoothness error  0.364875          23.0   \n",
       "16  Modality_2          concavity error  0.373875          24.0   \n",
       "29  Modality_2  worst fractal dimension  0.377500          25.0   \n",
       "12  Modality_2          perimeter error  0.377750          26.0   \n",
       "19  Modality_2  fractal dimension error  0.382125          27.0   \n",
       "8   Modality_1            mean symmetry  0.388250          28.0   \n",
       "18  Modality_2           symmetry error  0.411500          29.0   \n",
       "9   Modality_1   mean fractal dimension  0.435250          30.0   \n",
       "\n",
       "   ensemble method  \n",
       "3            S.SVM  \n",
       "13           S.SVM  \n",
       "22           S.SVM  \n",
       "23           S.SVM  \n",
       "21           S.SVM  \n",
       "27           S.SVM  \n",
       "1            S.SVM  \n",
       "7            S.SVM  \n",
       "20           S.SVM  \n",
       "26           S.SVM  \n",
       "2            S.SVM  \n",
       "6            S.SVM  \n",
       "24           S.SVM  \n",
       "0            S.SVM  \n",
       "10           S.SVM  \n",
       "4            S.SVM  \n",
       "5            S.SVM  \n",
       "25           S.SVM  \n",
       "28           S.SVM  \n",
       "11           S.SVM  \n",
       "17           S.SVM  \n",
       "15           S.SVM  \n",
       "14           S.SVM  \n",
       "16           S.SVM  \n",
       "29           S.SVM  \n",
       "12           S.SVM  \n",
       "19           S.SVM  \n",
       "8            S.SVM  \n",
       "18           S.SVM  \n",
       "9            S.SVM  "
      ]
     },
     "execution_count": 96,
     "metadata": {},
     "output_type": "execute_result"
    }
   ],
   "source": [
    "ranking_dataframe"
   ]
  }
 ],
 "metadata": {
  "kernelspec": {
   "display_name": "tf",
   "language": "python",
   "name": "python3"
  },
  "language_info": {
   "codemirror_mode": {
    "name": "ipython",
    "version": 3
   },
   "file_extension": ".py",
   "mimetype": "text/x-python",
   "name": "python",
   "nbconvert_exporter": "python",
   "pygments_lexer": "ipython3",
   "version": "3.10.9"
  },
  "orig_nbformat": 4,
  "vscode": {
   "interpreter": {
    "hash": "11e74c3c36c376ffcb66f65df8248706fe68363becca747991fd07d52526dccb"
   }
  }
 },
 "nbformat": 4,
 "nbformat_minor": 2
}
